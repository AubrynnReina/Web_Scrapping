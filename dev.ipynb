{
 "cells": [
  {
   "cell_type": "code",
   "execution_count": 1,
   "metadata": {},
   "outputs": [],
   "source": [
    "import requests\n",
    "from bs4 import BeautifulSoup"
   ]
  },
  {
   "cell_type": "code",
   "execution_count": 2,
   "metadata": {},
   "outputs": [],
   "source": [
    "url = 'https://animehay.in/phim-moi-cap-nhap/trang-1.html'\n",
    "html_page = requests.get(url)\n",
    "soup = BeautifulSoup(html_page.content, 'html.parser')"
   ]
  },
  {
   "cell_type": "code",
   "execution_count": 3,
   "metadata": {},
   "outputs": [],
   "source": [
    "movie_items = soup.find_all('div', class_='movie-item')"
   ]
  },
  {
   "cell_type": "code",
   "execution_count": 23,
   "metadata": {},
   "outputs": [],
   "source": [
    "def get_checkpoint_data(movie) -> tuple[int, str]:\n",
    "\n",
    "    movie_id = int(movie['id'][9:])\n",
    "    movie_latest_ep = movie.find('div', class_='episode-latest').text\n",
    "    \n",
    "    return (movie_id, movie_latest_ep)\n",
    "\n",
    "\n",
    "def save_checkpoint(checkpoint_set):\n",
    "\n",
    "    import pickle\n",
    "    CHECKPOINT_PATH = './data/checkpoint.pkl'\n",
    "\n",
    "    with open(CHECKPOINT_PATH, 'wb') as f:\n",
    "        pickle.dump(checkpoint_set, f)\n",
    "\n",
    "def load_checkpoint() -> set[int, str]:\n",
    "    import pickle\n",
    "    CHECKPOINT_PATH = './data/checkpoint.pkl'\n",
    "\n",
    "    with open(CHECKPOINT_PATH, 'rb') as f:\n",
    "        data =  pickle.load(f)\n",
    "\n",
    "    return data\n",
    "\n",
    "def make_checkpoint_file(movie):\n",
    "\n",
    "    checkpoint_data = get_checkpoint_data(movie)\n",
    "    save_checkpoint(checkpoint_data)\n",
    "\n",
    "\n",
    "def get_movie_items(page):\n",
    "\n",
    "    url = f'https://animehay.in/phim-moi-cap-nhap/trang-{page}.html'\n",
    "    html_page = requests.get(url)\n",
    "    soup = BeautifulSoup(html_page.content, 'html.parser')\n",
    "    movie_items = soup.find_all('div', class_='movie-item')\n",
    "\n",
    "    return movie_items\n"
   ]
  },
  {
   "cell_type": "code",
   "execution_count": 29,
   "metadata": {},
   "outputs": [
    {
     "name": "stdout",
     "output_type": "stream",
     "text": [
      "{(2713, '84/84')}\n",
      "https://animehay.in/thong-tin-phim/oshi-no-ko-2nd-season-4090.html\n",
      "https://animehay.in/thong-tin-phim/su-huynh-a-su-huynh-3708.html\n",
      "https://animehay.in/thong-tin-phim/tokidoki-bosotto-russia-go-de-dereru-tonari-no-alya-san-4091.html\n",
      "https://animehay.in/thong-tin-phim/than-an-vuong-toa-3506.html\n",
      "https://animehay.in/thong-tin-phim/nguyen-ton-4081.html\n",
      "https://animehay.in/thong-tin-phim/quyen-tu-luong-3259.html\n",
      "https://animehay.in/thong-tin-phim/na-nare-hana-nare-4122.html\n",
      "https://animehay.in/thong-tin-phim/isekai-shikkaku-4119.html\n",
      "https://animehay.in/thong-tin-phim/van-gioi-doc-ton-3231.html\n",
      "https://animehay.in/thong-tin-phim/nhat-niem-vinh-hang-3084.html\n",
      "https://animehay.in/thong-tin-phim/gia-thien-3787.html\n",
      "https://animehay.in/thong-tin-phim/vo-than-chua-te-3055.html\n",
      "https://animehay.in/thong-tin-phim/tower-of-god-season-2-4104.html\n",
      "https://animehay.in/thong-tin-phim/tien-vo-truyen-3723.html\n",
      "https://animehay.in/thong-tin-phim/kinnikuman-perfect-origin-arc-4114.html\n",
      "https://animehay.in/thong-tin-phim/midnight-punch-4110.html\n",
      "https://animehay.in/thong-tin-phim/mission-yozakura-family-4043.html\n",
      "https://animehay.in/thong-tin-phim/the-fable-4054.html\n",
      "https://animehay.in/thong-tin-phim/thon-phe-tinh-khong-3397.html\n",
      "https://animehay.in/thong-tin-phim/nghich-thien-chi-ton-3300.html\n",
      "https://animehay.in/thong-tin-phim/doc-bo-tieu-dao-3056.html\n",
      "https://animehay.in/thong-tin-phim/vo-thuong-than-de-3051.html\n",
      "https://animehay.in/thong-tin-phim/isekai-yururi-kikou-kosodate-shinagara-boukensha-shimasu-4109.html\n",
      "https://animehay.in/thong-tin-phim/vtuber-legend-how-i-went-viral-after-forgetting-to-turn-off-my-stream-4108.html\n",
      "https://animehay.in/thong-tin-phim/fairy-tail-100-years-quest-4103.html\n",
      "https://animehay.in/thong-tin-phim/tien-nghich-3879.html\n",
      "https://animehay.in/thong-tin-phim/wistoria-wand-and-sword-4107.html\n",
      "https://animehay.in/thong-tin-phim/huyen-sung-su-4079.html\n",
      "https://animehay.in/thong-tin-phim/one-piece-34.html\n",
      "https://animehay.in/thong-tin-phim/makeine-too-many-losing-heroines-4117.html\n",
      "https://animehay.in/thong-tin-phim/kimi-ni-todoke-3nd-season-4128.html\n",
      "https://animehay.in/thong-tin-phim/spy-family-code-white-4126.html\n",
      "https://animehay.in/thong-tin-phim/ramen-akaneko-4127.html\n",
      "https://animehay.in/thong-tin-phim/koi-wa-futago-de-warikirenai-4120.html\n",
      "https://animehay.in/thong-tin-phim/tensui-no-sakuna-hime-4101.html\n",
      "https://animehay.in/thong-tin-phim/the-elusive-samurai-4113.html\n",
      "https://animehay.in/thong-tin-phim/atri-my-dear-moments-4116.html\n",
      "https://animehay.in/thong-tin-phim/mob-kara-hajimaru-tansaku-eiyuutan-4102.html\n",
      "https://animehay.in/thong-tin-phim/synonyms-why-nobody-remembers-my-world-4115.html\n",
      "https://animehay.in/thong-tin-phim/shoshimin-how-to-become-ordinary-4106.html\n",
      "https://animehay.in/thong-tin-phim/plus-sized-elf-4105.html\n",
      "https://animehay.in/thong-tin-phim/boku-no-hero-academia-7th-season-4069.html\n",
      "https://animehay.in/thong-tin-phim/dau-pha-thuong-khung-phan-5-3518.html\n",
      "https://animehay.in/thong-tin-phim/tensei-shitara-slime-datta-ken-3rd-season-4035.html\n",
      "https://animehay.in/thong-tin-phim/kim-ngo-ve-4075.html\n",
      "https://animehay.in/thong-tin-phim/thuong-nguyen-do-3799.html\n",
      "https://animehay.in/thong-tin-phim/pham-nhan-tu-tien-3078.html\n",
      "https://animehay.in/thong-tin-phim/2-5-jigen-no-ririsa-4100.html\n",
      "https://animehay.in/thong-tin-phim/luyen-khi-muoi-van-nam-3717.html\n",
      "https://animehay.in/thong-tin-phim/than-vo-thien-ton-4125.html\n",
      "https://animehay.in/thong-tin-phim/dau-la-dai-luc-2-tuyet-the-duong-mon-3801.html\n",
      "https://animehay.in/thong-tin-phim/tru-tien-3565.html\n",
      "https://animehay.in/thong-tin-phim/vinh-sinh-3441.html\n",
      "https://animehay.in/thong-tin-phim/bach-luyen-thanh-than-3641.html\n",
      "https://animehay.in/thong-tin-phim/shikanoko-nokonoko-koshitantan-4092.html\n",
      "https://animehay.in/thong-tin-phim/suicide-squad-isekai-4087.html\n",
      "https://animehay.in/thong-tin-phim/maou-gun-saikyou-no-majutsushi-wa-ningen-datta-4085.html\n",
      "https://animehay.in/thong-tin-phim/hazure-waku-no-joutai-ijou-skill-de-saikyou-ni-natta-ore-ga-subete-wo-juurin-suru-made-4096.html\n",
      "https://animehay.in/thong-tin-phim/giji-harem-4094.html\n",
      "https://animehay.in/thong-tin-phim/tasogare-outfocus-4097.html\n",
      "https://animehay.in/thong-tin-phim/ore-wa-subete-wo-parry-suru-gyaku-kanchigai-no-sekai-saikyou-wa-boukensha-ni-naritai-4095.html\n",
      "https://animehay.in/thong-tin-phim/gimai-seikatsu-4093.html\n",
      "https://animehay.in/thong-tin-phim/toan-chuc-cao-thu-phan-3-4080.html\n",
      "https://animehay.in/thong-tin-phim/the-gioi-hoan-my-3247.html\n",
      "https://animehay.in/thong-tin-phim/vampire-dormitory-4046.html\n",
      "https://animehay.in/thong-tin-phim/shy-3892.html\n",
      "https://animehay.in/thong-tin-phim/shinmai-ossan-bouken-sha-saikyou-party-ni-shinu-hodo-kitaerarete-muteki-ni-naru-4089.html\n",
      "https://animehay.in/thong-tin-phim/phan-dien-tai-sinh-4067.html\n",
      "https://animehay.in/thong-tin-phim/hoi-minh-phong-hoa-tam-nguyet-4070.html\n",
      "https://animehay.in/thong-tin-phim/nier-automata-ver1-1a-3682.html\n",
      "https://animehay.in/thong-tin-phim/bye-bye-earth-4124.html\n",
      "https://animehay.in/thong-tin-phim/pokemon-horizons-the-series-3774.html\n",
      "https://animehay.in/thong-tin-phim/quality-assurance-in-another-world-4099.html\n",
      "https://animehay.in/thong-tin-phim/sengoku-youko-3994.html\n",
      "https://animehay.in/thong-tin-phim/tasuuketsu-4123.html\n",
      "https://animehay.in/thong-tin-phim/ookami-to-koushinryou-merchant-meets-the-wise-wolf-4029.html\n",
      "https://animehay.in/thong-tin-phim/senpai-wa-otokonoko-4121.html\n",
      "https://animehay.in/thong-tin-phim/katsute-mahou-shoujo-to-aku-wa-tekitai-shiteita-4112.html\n",
      "https://animehay.in/thong-tin-phim/kimi-to-boku-no-saigo-no-senjou-aruiwa-sekai-ga-hajimaru-seisen-season-ii-4111.html\n",
      "https://animehay.in/thong-tin-phim/kaii-to-otome-to-kamikakushi-4071.html\n",
      "https://animehay.in/thong-tin-phim/maou-gakuin-no-futekigousha-shijou-saikyou-no-maou-no-shiso-tensei-shite-shison-tachi-no-gakkou-e-kayou-ii-3681.html\n",
      "https://animehay.in/thong-tin-phim/boukyaku-battery-tv-4058.html\n",
      "https://animehay.in/thong-tin-phim/kimetsu-no-yaiba-hashira-geiko-hen-4072.html\n",
      "https://animehay.in/thong-tin-phim/mushoku-tensei-ii-isekai-ittara-honki-dasu-ss3-3805.html\n",
      "https://animehay.in/thong-tin-phim/sentai-daishikkaku-4041.html\n",
      "https://animehay.in/thong-tin-phim/madogiwa-no-totto-chan-4088.html\n",
      "https://animehay.in/thong-tin-phim/tadaima-okaer-4066.html\n",
      "https://animehay.in/thong-tin-phim/kaijuu-8-gou-4062.html\n",
      "https://animehay.in/thong-tin-phim/dekisokonai-to-yobareta-motoeiyuu-wa-jikka-kara-tsuihou-sareta-node-sukikatte-ni-ikiru-koto-ni-shita-4028.html\n",
      "https://animehay.in/thong-tin-phim/oi-tonbo-4038.html\n",
      "https://animehay.in/thong-tin-phim/the-new-gate-4063.html\n",
      "https://animehay.in/thong-tin-phim/tonari-no-youkai-san-4053.html\n",
      "https://animehay.in/thong-tin-phim/wind-breaker-4034.html\n",
      "https://animehay.in/thong-tin-phim/mahouka-koukou-no-rettousei-3rd-season-4037.html\n",
      "https://animehay.in/thong-tin-phim/yuru-camp-season-3-4033.html\n",
      "https://animehay.in/thong-tin-phim/hananoi-kun-to-koi-no-yamai-4032.html\n",
      "https://animehay.in/thong-tin-phim/the-boy-and-the-heron-4086.html\n",
      "https://animehay.in/thong-tin-phim/shinigami-bocchan-to-kuro-maid-3rd-season-4048.html\n",
      "https://animehay.in/thong-tin-phim/kenka-dokugaku-4060.html\n",
      "https://animehay.in/thong-tin-phim/date-a-live-v-4061.html\n",
      "https://animehay.in/thong-tin-phim/unnamed-memory-4057.html\n",
      "https://animehay.in/thong-tin-phim/rinkai-4059.html\n",
      "https://animehay.in/thong-tin-phim/rising-impact-4084.html\n",
      "https://animehay.in/thong-tin-phim/henjin-no-salad-bowl-4050.html\n",
      "https://animehay.in/thong-tin-phim/lv2-kara-cheat-datta-motoyuusha-kouho-no-mattari-isekai-life-4051.html\n",
      "https://animehay.in/thong-tin-phim/shuumatsu-train-doko-e-iku-4026.html\n",
      "https://animehay.in/thong-tin-phim/kami-wa-game-ni-ueteiru-4027.html\n",
      "https://animehay.in/thong-tin-phim/tsuki-ga-michibiku-isekai-douchuu-2nd-season-3989.html\n",
      "https://animehay.in/thong-tin-phim/captain-tsubasa-season-2-junior-youth-hen-3897.html\n",
      "https://animehay.in/thong-tin-phim/blue-archive-the-animation-4042.html\n",
      "https://animehay.in/thong-tin-phim/tensei-kizoku-kantei-skill-de-nariagaru-4045.html\n",
      "https://animehay.in/thong-tin-phim/yoru-no-kurage-wa-oyogenai-4039.html\n",
      "https://animehay.in/thong-tin-phim/kuroshitsuji-kishuku-gakkou-hen-4065.html\n",
      "https://animehay.in/thong-tin-phim/maou-no-ore-ga-dorei-elf-wo-yome-ni-shitanda-ga-dou-medereba-ii-4031.html\n",
      "https://animehay.in/thong-tin-phim/highspeed-etoile-4056.html\n",
      "https://animehay.in/thong-tin-phim/astro-note-4036.html\n",
      "https://animehay.in/thong-tin-phim/bartender-kami-no-glass-4030.html\n",
      "https://animehay.in/thong-tin-phim/kono-subarashii-sekai-ni-shukufuku-wo-3-4023.html\n",
      "https://animehay.in/thong-tin-phim/re-monster-4024.html\n",
      "https://animehay.in/thong-tin-phim/tensei-shitara-dainana-ouji-datta-node-kimama-ni-majutsu-wo-kiwamemasu-4025.html\n",
      "https://animehay.in/thong-tin-phim/jiisan-baasan-wakagaeru-4047.html\n",
      "https://animehay.in/thong-tin-phim/one-room-hiatari-futsuu-tenshi-tsuki-4040.html\n",
      "https://animehay.in/thong-tin-phim/delicious-in-dungeon-3972.html\n",
      "https://animehay.in/thong-tin-phim/detective-conan-black-iron-submarine-4083.html\n",
      "https://animehay.in/thong-tin-phim/nhat-the-chi-ton-4019.html\n",
      "https://animehay.in/thong-tin-phim/baki-hanma-vs-kengan-ashura-4082.html\n",
      "https://animehay.in/thong-tin-phim/dai-chua-te-3800.html\n",
      "https://animehay.in/thong-tin-phim/tay-hanh-ky-phan-5-3852.html\n",
      "https://animehay.in/thong-tin-phim/suki-demo-kirai-na-amanojaku-my-oni-girl-4078.html\n",
      "https://animehay.in/thong-tin-phim/seishun-buta-yarou-wa-odekake-sister-no-yume-wo-minai-4077.html\n",
      "https://animehay.in/thong-tin-phim/garouden-the-way-of-the-lone-wolf-4076.html\n",
      "https://animehay.in/thong-tin-phim/yami-shibai-12-4017.html\n",
      "https://animehay.in/thong-tin-phim/blood-of-zeus-season-2-4074.html\n",
      "https://animehay.in/thong-tin-phim/thua-lo-thanh-thu-phu-tu-tro-choi-4012.html\n",
      "https://animehay.in/thong-tin-phim/t-p-bon-4073.html\n",
      "https://animehay.in/thong-tin-phim/bach-yeu-pho-phan-4-4016.html\n",
      "https://animehay.in/thong-tin-phim/bo-tinh-ti-nguyen-khoi-4018.html\n",
      "https://animehay.in/thong-tin-phim/ninja-kamui-4014.html\n",
      "https://animehay.in/thong-tin-phim/kurayukaba-4068.html\n",
      "https://animehay.in/thong-tin-phim/shaman-king-flowers-3999.html\n",
      "https://animehay.in/thong-tin-phim/dragon-raja-binh-minh-ruc-lua-4064.html\n",
      "https://animehay.in/thong-tin-phim/ma-nu-vo-tri-3876.html\n"
     ]
    }
   ],
   "source": [
    "# Infinite scrapper\n",
    "proceed = True\n",
    "page = 1\n",
    "new_checkpoint_data = set()\n",
    "current_checkpoint_data = load_checkpoint()\n",
    "print(current_checkpoint_data)\n",
    "while(proceed):\n",
    "\n",
    "    movie_items = get_movie_items(page)\n",
    "    for movie in movie_items:\n",
    "\n",
    "        checkpoint_data = get_checkpoint_data(movie)\n",
    "\n",
    "        # Check if the movie item has ben processed on the previous batch or not\n",
    "        if checkpoint_data in current_checkpoint_data:\n",
    "            # save_checkpoint(new_checkpoint_data)  # Save this batch as checkpoint for future scrapping batches\n",
    "            proceed = False  # Stop this movie item processing batch\n",
    "            break  \n",
    "\n",
    "        new_checkpoint_data.add(checkpoint_data)\n",
    "\n",
    "        movie_link = movie.select('a:nth-child(2)')[0]['href']\n",
    "        print(movie_link)\n",
    "        movie_html = requests.get(movie_link)\n",
    "\n",
    "        soup = BeautifulSoup(movie_html.content, 'html.parser')\n",
    "        \n",
    "        movie_data = soup.find('div', class_='last')\n",
    "\n",
    "        name = soup.find('h1', class_='heading_movie').text\n",
    "\n",
    "        raw_categories = movie_data.find('div', class_='list_cate') \\\n",
    "                                .text.split('\\n')[4:-1:2]\n",
    "        categories = [category.strip() for category in raw_categories]\n",
    "\n",
    "        status = movie_data.find('div', class_='status') \\\n",
    "                        .select('div:nth-child(2)')[0] \\\n",
    "                        .text.strip()\n",
    "        \n",
    "        score_and_review = movie_data.find('div', class_='score') \\\n",
    "                                    .select('div:nth-child(2)')[0].text.split()[:-2:2]\n",
    "        score, review = score_and_review[0], score_and_review[1]\n",
    "\n",
    "        publish_year = movie_data.find('div', class_='update_time') \\\n",
    "                                .select('div:nth-child(2)')[0].text.strip()\n",
    "        \n",
    "        duration = movie_data.find('div', class_='duration') \\\n",
    "                            .select('div:nth-child(2)')[0].text.strip()\n",
    "        \n",
    "        print(name, categories, status, score, review, publish_year, duration)\n",
    "\n",
    "    page += 1\n"
   ]
  },
  {
   "cell_type": "code",
   "execution_count": 26,
   "metadata": {},
   "outputs": [],
   "source": [
    "import pickle\n",
    "with open('./data/checkpoint.pkl', 'wb') as f:\n",
    "    pickle.dump(set([(2713, '84/84')]), f)"
   ]
  },
  {
   "cell_type": "code",
   "execution_count": 28,
   "metadata": {},
   "outputs": [
    {
     "data": {
      "text/plain": [
       "{(2713, '84/84')}"
      ]
     },
     "execution_count": 28,
     "metadata": {},
     "output_type": "execute_result"
    }
   ],
   "source": [
    "with open('./data/checkpoint.pkl', 'rb') as f:\n",
    "    data = pickle.load(f)\n",
    "\n",
    "data"
   ]
  },
  {
   "cell_type": "code",
   "execution_count": null,
   "metadata": {},
   "outputs": [
    {
     "name": "stdout",
     "output_type": "stream",
     "text": [
      "Quyến Tư Lượng ['CN Animation', 'Tiên hiệp', 'Huyền ảo'] Hoàn thành 9.2 375 2021 30 Tập\n",
      "Na Nare Hana Nare ['Anime', 'Thể thao'] Đang tiến hành 5.4 14 2024 ?? Tập\n",
      "Isekai Shikkaku ['Anime', 'Hành động', 'Hài hước', 'Phiêu lưu'] Đang tiến hành 8.6 62 2024 ?? Tập\n",
      "Vạn Giới Độc Tôn ['CN Animation', 'Kiếm hiệp', 'Huyền ảo', 'Dị giới'] Đang tiến hành 8.1 549 2021 274 Tập\n",
      "Nhất Niệm Vĩnh Hằng ['CN Animation', 'Tiên hiệp', 'Huyền ảo'] Đang tiến hành 9.0 2239 2020 135 Tập\n",
      "Già Thiên ['CN Animation', 'Tiên hiệp', 'Xuyên không', 'Huyền ảo'] Đang tiến hành 8.6 1312 2023 104 Tập\n"
     ]
    }
   ],
   "source": [
    "page = 0\n",
    "\n"
   ]
  },
  {
   "cell_type": "code",
   "execution_count": 35,
   "metadata": {},
   "outputs": [],
   "source": [
    "pages = soup.find_all('div', class_='pagination')\n",
    "\n",
    "page_links = [page.div for page in pages]"
   ]
  },
  {
   "cell_type": "code",
   "execution_count": 79,
   "metadata": {},
   "outputs": [
    {
     "data": {
      "text/plain": [
       "'https://animehay.in/thong-tin-phim/tien-vo-truyen-3723.html'"
      ]
     },
     "execution_count": 79,
     "metadata": {},
     "output_type": "execute_result"
    }
   ],
   "source": [
    "'https://animehay.in/thong-tin-phim/tien-vo-truyen-3723.html'"
   ]
  },
  {
   "cell_type": "code",
   "execution_count": 55,
   "metadata": {},
   "outputs": [],
   "source": [
    "a_s = pages[0].find_all('a')"
   ]
  },
  {
   "cell_type": "code",
   "execution_count": 56,
   "metadata": {},
   "outputs": [
    {
     "data": {
      "text/plain": [
       "[<a href=\"https://animehay.in/phim-moi-cap-nhap/trang-1.html\">Đầu</a>,\n",
       " <a class=\"active_page\" href=\"https://animehay.in/phim-moi-cap-nhap/trang-1.html\">1</a>,\n",
       " <a href=\"https://animehay.in/phim-moi-cap-nhap/trang-2.html\">2</a>,\n",
       " <a href=\"javascript:toggleGoPage()\" style=\"background: #a54f4f;\">GO</a>,\n",
       " <a href=\"https://animehay.in/phim-moi-cap-nhap/trang-137.html\">Cuối</a>]"
      ]
     },
     "execution_count": 56,
     "metadata": {},
     "output_type": "execute_result"
    }
   ],
   "source": [
    "a_s"
   ]
  },
  {
   "cell_type": "code",
   "execution_count": 102,
   "metadata": {},
   "outputs": [
    {
     "data": {
      "text/plain": [
       "30"
      ]
     },
     "execution_count": 102,
     "metadata": {},
     "output_type": "execute_result"
    }
   ],
   "source": [
    "len(movie_links)"
   ]
  },
  {
   "cell_type": "markdown",
   "metadata": {},
   "source": [
    "# scrap -> check -> turn page or filter"
   ]
  },
  {
   "cell_type": "code",
   "execution_count": null,
   "metadata": {},
   "outputs": [],
   "source": [
    "def get_movie_list"
   ]
  }
 ],
 "metadata": {
  "kernelspec": {
   "display_name": "web_crawling",
   "language": "python",
   "name": "python3"
  },
  "language_info": {
   "codemirror_mode": {
    "name": "ipython",
    "version": 3
   },
   "file_extension": ".py",
   "mimetype": "text/x-python",
   "name": "python",
   "nbconvert_exporter": "python",
   "pygments_lexer": "ipython3",
   "version": "3.9.19"
  }
 },
 "nbformat": 4,
 "nbformat_minor": 2
}
