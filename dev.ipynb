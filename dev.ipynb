{
 "cells": [
  {
   "cell_type": "code",
   "execution_count": 13,
   "metadata": {},
   "outputs": [],
   "source": [
    "def get_checkpoint_data(movie) -> tuple[int, str]:\n",
    "\n",
    "    movie_id = int(movie['id'][9:])\n",
    "    movie_latest_ep = movie.find('div', class_='episode-latest').text\n",
    "    \n",
    "    return (movie_id, movie_latest_ep)\n",
    "\n",
    "\n",
    "def save_checkpoint(checkpoint_set):\n",
    "\n",
    "    import pickle\n",
    "    CHECKPOINT_PATH = './data/checkpoint.pkl'\n",
    "\n",
    "    with open(CHECKPOINT_PATH, 'wb') as f:\n",
    "        pickle.dump(checkpoint_set, f)\n",
    "\n",
    "\n",
    "def load_checkpoint() -> set[int, str]:\n",
    "    \n",
    "    import pickle\n",
    "    CHECKPOINT_PATH = './data/checkpoint.pkl'\n",
    "\n",
    "    with open(CHECKPOINT_PATH, 'rb') as f:\n",
    "        data = pickle.load(f)\n",
    "\n",
    "    return data\n",
    "\n",
    "\n",
    "def get_movie_items(page):\n",
    "\n",
    "    import requests\n",
    "    from bs4 import BeautifulSoup\n",
    "\n",
    "    url = f'https://animehay.biz/phim-moi-cap-nhap/trang-{page}.html'\n",
    "    html_page = requests.get(url)\n",
    "    soup = BeautifulSoup(html_page.content, 'html.parser')\n",
    "    movie_items = soup.find_all('div', class_='movie-item')\n",
    "\n",
    "    return movie_items\n",
    "\n",
    "\n",
    "\n",
    "def extract_data(movie) -> tuple:\n",
    "\n",
    "    import requests\n",
    "    from bs4 import BeautifulSoup\n",
    "    \n",
    "    link = movie.select('a:nth-child(2)')[0]['href']\n",
    "    response = requests.get(link)\n",
    "    \n",
    "    if response.status_code != 200:\n",
    "        return ()\n",
    "\n",
    "    soup = BeautifulSoup(response.content, 'html.parser')\n",
    "    \n",
    "    movie_data = soup.find('div', class_='last')\n",
    "\n",
    "    if movie_data is None:\n",
    "        return ()\n",
    "    \n",
    "    name = soup.find('h1', class_='heading_movie').text.strip()\n",
    "\n",
    "    raw_categories = movie_data.find('div', class_='list_cate') \\\n",
    "                            .text.split('\\n')[4:-1:2]\n",
    "    categories = [category.strip() for category in raw_categories]\n",
    "\n",
    "    movie_status = movie_data.find('div', class_='status') \\\n",
    "                    .select('div:nth-child(2)')[0] \\\n",
    "                    .text.strip()\n",
    "    \n",
    "    score_and_review = movie_data.find('div', class_='score') \\\n",
    "                                 .select('div:nth-child(2)')[0].text.split()[:-2:2]\n",
    "    score = float(score_and_review[0]) if score_and_review[0] != 'NaN' else None\n",
    "    review = int(score_and_review[1]) if score_and_review[1] != 'NaN' else None\n",
    "\n",
    "    publish_year_str = movie_data.find('div', class_='update_time') \\\n",
    "                                 .select('div:nth-child(2)')[0].text.strip()\n",
    "    publish_year = int(publish_year_str) if publish_year_str != 'NaN' else None\n",
    "    \n",
    "    duration = movie_data.find('div', class_='duration') \\\n",
    "                        .select('div:nth-child(2)')[0].text.strip()\n",
    "    \n",
    "    return (name, categories, movie_status, score, review, publish_year, duration, link)\n",
    "\n",
    "def convert_to_dict(id, data) -> dict:\n",
    "\n",
    "    result_dict = {\n",
    "        'id': id,\n",
    "        'name': data[0],\n",
    "        'genre': data[1],\n",
    "        'status': data[2],\n",
    "        'score': data[3],\n",
    "        'review': data[4],\n",
    "        'publish_year': data[5],\n",
    "        'duration': data[6],\n",
    "        'link': data[7]\n",
    "    }\n",
    "    return result_dict\n",
    "\n",
    "\n",
    "def append_data(id, data, data_dict):\n",
    "    \n",
    "    for i in range(len(data[1])):\n",
    "\n",
    "        for j, key in enumerate(data_dict):\n",
    "\n",
    "            if j == 0:  \n",
    "                data_dict[key].append(id)\n",
    "            \n",
    "            elif j == 2:\n",
    "                data_dict[key].append(data[j - 1][i])\n",
    "                \n",
    "            else:\n",
    "                data_dict[key].append(data[j - 1])\n",
    "\n",
    "    return data_dict\n",
    "\n",
    "\n",
    "def save_to_json(data, filename):\n",
    "\n",
    "    import json\n",
    "    \n",
    "    with open(f'./data/json/{filename}.json', 'w', encoding='utf-8') as f:\n",
    "        json.dump(data, f)\n",
    "\n",
    "\n",
    "def save_to_csv(data, filename):\n",
    "\n",
    "    import pandas as pd\n",
    "    from datetime import datetime\n",
    "\n",
    "    filename = datetime.today().strftime('%Y_%m_%d')\n",
    "    data_df = pd.DataFrame(data=data)\n",
    "    data_df = data_df.explode('genre')\n",
    "    data_df.to_csv(f'./data/csv/{filename}.csv', index=False)\n",
    "\n",
    "    return data_df\n",
    "\n",
    "\n",
    "def save_to_parquet(data_df, filename):\n",
    "\n",
    "    import pyarrow as pa\n",
    "    import pyarrow.parquet as pq\n",
    "\n",
    "    data_table = pa.Table.from_pandas(data_df)\n",
    "    pq.write_table(data_table, f'./data/parquet/{filename}.parquet')\n",
    "\n",
    "\n",
    "def save_data(data):\n",
    "\n",
    "    from datetime import datetime\n",
    "\n",
    "    filename = datetime.today().strftime('%Y_%m_%d')\n",
    "\n",
    "    save_to_json(data, filename)\n",
    "    data_df = save_to_csv(data, filename)\n",
    "    save_to_parquet(data_df, filename)\n"
   ]
  },
  {
   "cell_type": "code",
   "execution_count": 14,
   "metadata": {},
   "outputs": [
    {
     "name": "stdout",
     "output_type": "stream",
     "text": [
      "2\n",
      "('Nghịch Thiên Chí Tôn', ['CN Animation', 'Tiên hiệp', 'Trùng sinh'], 'Đang tiến hành', 7.5, 583, 2021, '380 Tập', 'https://animehay.biz/thong-tin-phim/nghich-thien-chi-ton-3300.html')\n",
      "('Vô Thượng Thần Đế', ['CN Animation', 'Tiên hiệp', 'Trùng sinh', 'Huyền ảo'], 'Đang tiến hành', 8.0, 748, 2020, '464 Tập', 'https://animehay.biz/thong-tin-phim/vo-thuong-than-de-3051.html')\n",
      "('Ore wa Subete wo [Parry] Suru: Gyaku Kanchigai no Sekai Saikyou wa Boukensha ni Naritai', ['Anime', 'Hành động', 'Siêu nhiên', 'Phiêu lưu'], 'Đang tiến hành', 8.2, 185, 2024, '?? Tập', 'https://animehay.biz/thong-tin-phim/ore-wa-subete-wo-parry-suru-gyaku-kanchigai-no-sekai-saikyou-wa-boukensha-ni-naritai-4095.html')\n",
      "('Tasogare Outfocus', ['Anime', 'Học đường', 'Đời thường'], 'Đang tiến hành', 3.2, 116, 2024, '?? Tập', 'https://animehay.biz/thong-tin-phim/tasogare-outfocus-4097.html')\n",
      "('Hazure Waku no [Joutai Ijou Skill] de Saikyou ni Natta Ore ga Subete wo Juurin Suru made', ['Anime', 'Hành động', 'Drama', 'Siêu nhiên', 'Phiêu lưu'], 'Đang tiến hành', 8.2, 204, 2024, '?? Tập', 'https://animehay.biz/thong-tin-phim/hazure-waku-no-joutai-ijou-skill-de-saikyou-ni-natta-ore-ga-subete-wo-juurin-suru-made-4096.html')\n",
      "('Gimai Seikatsu', ['Anime', 'Tình cảm'], 'Đang tiến hành', 8.9, 153, 2024, '12 Tập', 'https://animehay.biz/thong-tin-phim/gimai-seikatsu-4093.html')\n",
      "('Tokidoki Bosotto Russia-go de Dereru Tonari no Alya-san', ['Anime', 'Hài hước', 'Tình cảm', 'Học đường'], 'Đang tiến hành', 9.2, 350, 2024, '12 Tập', 'https://animehay.biz/thong-tin-phim/tokidoki-bosotto-russia-go-de-dereru-tonari-no-alya-san-4091.html')\n",
      "('Doraemon Movie 43 Nobita Và Bản Giao Hưởng Địa Cầu', ['Anime', 'Hài hước', 'Siêu nhiên', 'Phiêu lưu'], 'Hoàn thành', 8.8, 17, 2024, '114 phút', 'https://animehay.biz/thong-tin-phim/doraemon-movie-43-nobita-va-ban-giao-huong-dia-cau-4134.html')\n",
      "('Senpai wa Otokonoko', ['Anime', 'Tình cảm', 'Học đường'], 'Đang tiến hành', 5.6, 23, 2024, '?? Tập', 'https://animehay.biz/thong-tin-phim/senpai-wa-otokonoko-4121.html')\n",
      "('Isekai Shikkaku', ['Anime', 'Hành động', 'Hài hước', 'Phiêu lưu'], 'Đang tiến hành', 8.2, 107, 2024, '?? Tập', 'https://animehay.biz/thong-tin-phim/isekai-shikkaku-4119.html')\n",
      "('Katsute Mahou Shoujo to Aku wa Tekitai Shiteita', ['Anime', 'Tình cảm', 'Siêu nhiên'], 'Đang tiến hành', 8.2, 60, 2024, '?? Tập', 'https://animehay.biz/thong-tin-phim/katsute-mahou-shoujo-to-aku-wa-tekitai-shiteita-4112.html')\n",
      "('Henjin no Salad Bowl', ['Anime', 'Hài hước', 'Giả tưởng'], 'Hoàn thành', 7.6, 49, 2024, '12 Tập', 'https://animehay.biz/thong-tin-phim/henjin-no-salad-bowl-4050.html')\n",
      "('Maou Gun Saikyou No Majutsushi Wa Ningen Datta', ['Anime', 'Hành động', 'Siêu nhiên', 'Xuyên không'], 'Đang tiến hành', 7.1, 116, 2024, '?? Tập', 'https://animehay.biz/thong-tin-phim/maou-gun-saikyou-no-majutsushi-wa-ningen-datta-4085.html')\n",
      "('Thế Giới Hoàn Mỹ', ['CN Animation', 'Tiên hiệp', 'Kiếm hiệp', 'Huyền ảo'], 'Đang tiến hành', 9.2, 2524, 2021, '182 Tập', 'https://animehay.biz/thong-tin-phim/the-gioi-hoan-my-3247.html')\n",
      "('Sư Huynh À Sư Huynh', ['CN Animation', 'Kiếm hiệp', 'Huyền ảo', '[CNA] Hài hước'], 'Đang tiến hành', 9.4, 774, 2023, '91 Tập', 'https://animehay.biz/thong-tin-phim/su-huynh-a-su-huynh-3708.html')\n",
      "('Thần Ấn Vương Tọa', ['CN Animation', 'Huyền ảo', 'Dị giới'], 'Đang tiến hành', 8.8, 1589, 2022, '156 Tập', 'https://animehay.biz/thong-tin-phim/than-an-vuong-toa-3506.html')\n",
      "('Kiếm Lai', ['CN Animation', 'Tiên hiệp', 'Huyền ảo'], 'Đang tiến hành', 9.5, 389, 2024, '26 Tập', 'https://animehay.biz/thong-tin-phim/kiem-lai-4131.html')\n",
      "('Trảm Thần', ['CN Animation'], 'Đang tiến hành', 9.3, 166, 2024, '?? Tập', 'https://animehay.biz/thong-tin-phim/tram-than-4133.html')\n",
      "('Nhất Niệm Vĩnh Hằng', ['CN Animation', 'Tiên hiệp', 'Huyền ảo'], 'Đang tiến hành', 9.0, 2262, 2020, '135 Tập', 'https://animehay.biz/thong-tin-phim/nhat-niem-vinh-hang-3084.html')\n",
      "('Già Thiên', ['CN Animation', 'Tiên hiệp', 'Xuyên không', 'Huyền ảo'], 'Đang tiến hành', 8.6, 1349, 2023, '104 Tập', 'https://animehay.biz/thong-tin-phim/gia-thien-3787.html')\n",
      "('Mission: Yozakura Family', ['Anime', 'Hành động', 'Hài hước', 'Tình cảm', 'Siêu năng lực'], 'Đang tiến hành', 8.4, 146, 2024, '?? Tập', 'https://animehay.biz/thong-tin-phim/mission-yozakura-family-4043.html')\n",
      "('Shy', ['Anime', 'Hành động', 'Siêu năng lực', 'Drama'], 'Đang tiến hành', 5.2, 69, 2023, '?? Tập', 'https://animehay.biz/thong-tin-phim/shy-3892.html')\n",
      "('Shinmai Ossan Bouken-sha, Saikyou Party ni Shinu Hodo Kitaerarete Muteki ni Naru', ['Hành động', 'Hài hước', 'Phiêu lưu'], 'Đang tiến hành', 7.5, 136, 2024, '?? Tập', 'https://animehay.biz/thong-tin-phim/shinmai-ossan-bouken-sha-saikyou-party-ni-shinu-hodo-kitaerarete-muteki-ni-naru-4089.html')\n",
      "('Midnight Punch', ['Anime', 'Hài hước', 'Đời thường'], 'Đang tiến hành', 5.7, 38, 2024, '?? Tập', 'https://animehay.biz/thong-tin-phim/midnight-punch-4110.html')\n",
      "('Thôn Phệ Tinh Không', ['CN Animation', 'Huyền ảo', 'Khoa huyễn'], 'Đang tiến hành', 9.7, 4510, 2021, '156 Tập', 'https://animehay.biz/thong-tin-phim/thon-phe-tinh-khong-3397.html')\n",
      "('Madougushi Dahliya wa Utsumukanai', ['Anime', 'Giả tưởng', 'Đời thường', 'Dị giới'], 'Đang tiến hành', 6.6, 25, 2024, '?? Tập', 'https://animehay.biz/thong-tin-phim/madougushi-dahliya-wa-utsumukanai-4130.html')\n",
      "('The Fable', ['Anime', 'Hài hước', 'Seinen'], 'Đang tiến hành', 6.8, 35, 2024, '?? Tập', 'https://animehay.biz/thong-tin-phim/the-fable-4054.html')\n",
      "('Ramen Akaneko', ['Anime', 'Hài hước', 'Shounen'], 'Đang tiến hành', 6.7, 11, 2024, '?? Tập', 'https://animehay.biz/thong-tin-phim/ramen-akaneko-4127.html')\n",
      "('The Elusive Samurai', ['Anime', 'Hành động', 'Lịch sử', 'Drama', 'Phiêu lưu', 'Samurai'], 'Đang tiến hành', 7.9, 72, 2024, '?? Tập', 'https://animehay.biz/thong-tin-phim/the-elusive-samurai-4113.html')\n",
      "('Monogatari Series: Off & Monster Season', ['Anime', 'Hài hước', 'Bí ẩn', 'Siêu nhiên', 'Ma cà rồng'], 'Đang tiến hành', 7.9, 27, 2024, '?? Tập', 'https://animehay.biz/thong-tin-phim/monogatari-series-off-monster-season-4129.html')\n",
      "3\n",
      "('Koi wa Futago de Warikirenai', ['Anime', 'Hài hước', 'Tình cảm'], 'Đang tiến hành', 6.3, 39, 2024, '?? Tập', 'https://animehay.biz/thong-tin-phim/koi-wa-futago-de-warikirenai-4120.html')\n",
      "('Kinnikuman Perfect Origin Arc', ['Anime', 'Hài hước', 'Thể thao'], 'Đang tiến hành', 2.4, 25, 2024, '?? Tập', 'https://animehay.biz/thong-tin-phim/kinnikuman-perfect-origin-arc-4114.html')\n",
      "('Isekai Yururi Kikou: Kosodate Shinagara Boukensha Shimasu', ['Anime', 'Hành động', 'Hài hước', 'Phiêu lưu', 'Dị giới'], 'Đang tiến hành', 7.3, 96, 2024, '?? Tập', 'https://animehay.biz/thong-tin-phim/isekai-yururi-kikou-kosodate-shinagara-boukensha-shimasu-4109.html')\n",
      "('Wistoria: Wand and Sword', ['Anime', 'Hành động', 'Học đường', 'Siêu nhiên', 'Phiêu lưu'], 'Đang tiến hành', 8.6, 231, 2024, '?? Tập', 'https://animehay.biz/thong-tin-phim/wistoria-wand-and-sword-4107.html')\n",
      "('VTuber Legend: How I Went Viral after Forgetting to Turn Off My Stream', ['Anime', 'Hài hước', 'Tình cảm', 'Giả tưởng', 'Đời thường'], 'Đang tiến hành', 6.5, 47, 2024, '?? Tập', 'https://animehay.biz/thong-tin-phim/vtuber-legend-how-i-went-viral-after-forgetting-to-turn-off-my-stream-4108.html')\n",
      "('Tower of God Season 2', ['Anime', 'Hành động', 'Bí ẩn', 'Giả tưởng', 'Drama', 'Phiêu lưu'], 'Đang tiến hành', 8.9, 140, 2024, '?? Tập', 'https://animehay.biz/thong-tin-phim/tower-of-god-season-2-4104.html')\n",
      "('Yêu Thần Ký', ['CN Animation', 'Huyền ảo', 'Trùng sinh'], 'Hoàn thành', 8.9, 3863, 2017, '380 Tập', 'https://animehay.biz/thong-tin-phim/yeu-than-ky-2420.html')\n",
      "('Huyễn Sủng Sư', ['CN Animation', 'Huyền ảo', 'Dị giới'], 'Hoàn thành', 7.7, 156, 2024, '16 Tập', 'https://animehay.biz/thong-tin-phim/huyen-sung-su-4079.html')\n",
      "('\"Oshi no Ko\" 2nd Season', ['Anime', 'Drama', 'Seinen', 'Siêu nhiên'], 'Đang tiến hành', 7.8, 165, 2024, '13 Tập', 'https://animehay.biz/thong-tin-phim/oshi-no-ko-2nd-season-4090.html')\n",
      "('Na Nare Hana Nare', ['Anime', 'Thể thao'], 'Đang tiến hành', 5.2, 19, 2024, '?? Tập', 'https://animehay.biz/thong-tin-phim/na-nare-hana-nare-4122.html')\n",
      "('Yuru Camp△ Season 3', ['Anime', 'Đời thường'], 'Hoàn thành', 7.9, 42, 2024, '12 Tập', 'https://animehay.biz/thong-tin-phim/yuru-camp-season-3-4033.html')\n",
      "('Tasuuketsu', ['Anime', 'Hành động', 'Drama'], 'Đang tiến hành', 3.3, 30, 2024, '?? Tập', 'https://animehay.biz/thong-tin-phim/tasuuketsu-4123.html')\n",
      "('Plus-Sized Elf', ['Anime', 'Tình cảm', 'Harem', 'Siêu nhiên'], 'Đang tiến hành', 4.0, 55, 2024, '?? Tập', 'https://animehay.biz/thong-tin-phim/plus-sized-elf-4105.html')\n",
      "('Sengoku Youko', ['Anime', 'Hành động', 'Giả tưởng', 'Shounen', 'Drama', 'Siêu nhiên', 'Phiêu lưu'], 'Đang tiến hành', 7.1, 82, 2024, '37 Tập', 'https://animehay.biz/thong-tin-phim/sengoku-youko-3994.html')\n",
      "('Toàn Chức Cao Thủ Phần 3', ['Trò chơi', 'CN Animation'], 'Hoàn thành', 9.3, 143, 2024, '17 Tập', 'https://animehay.biz/thong-tin-phim/toan-chuc-cao-thu-phan-3-4080.html')\n",
      "('Toàn Chức Pháp Sư', ['Hành động', 'Siêu năng lực', 'CN Animation'], 'Đang tiến hành', 9.0, 27, 2024, '6 Tập', 'https://animehay.biz/thong-tin-phim/toan-chuc-phap-su-4132.html')\n",
      "('Kengan Ashura 3nd Season', ['Anime', 'Hành động', 'Võ thuật'], 'Hoàn thành', 8.3, 52, 2023, '28 Tập', 'https://animehay.biz/thong-tin-phim/kengan-ashura-3nd-season-3885.html')\n",
      "('Kim Ngô Vệ', ['Hành động', 'Thám tử', 'CN Animation', 'Huyền ảo'], 'Hoàn thành', 6.1, 46, 2024, '16 Tập', 'https://animehay.biz/thong-tin-phim/kim-ngo-ve-4075.html')\n",
      "('Suicide Squad ISEKAI', ['Anime', 'Hành động', 'Xuyên không'], 'Đang tiến hành', 8.1, 79, 2024, '?? Tập', 'https://animehay.biz/thong-tin-phim/suicide-squad-isekai-4087.html')\n",
      "('Captain Tsubasa Season 2: Junior Youth-hen', ['Anime', 'Thể thao'], 'Hoàn thành', 7.2, 74, 2023, '39 Tập', 'https://animehay.biz/thong-tin-phim/captain-tsubasa-season-2-junior-youth-hen-3897.html')\n",
      "('Tru Tiên', ['CN Animation', 'Tiên hiệp', 'Kiếm hiệp', 'Huyền ảo'], 'Đang tiến hành', 8.9, 1088, 2022, '52 Tập', 'https://animehay.biz/thong-tin-phim/tru-tien-3565.html')\n",
      "('Quyến Tư Lượng', ['CN Animation', 'Tiên hiệp', 'Huyền ảo'], 'Hoàn thành', 9.1, 388, 2021, '30 Tập', 'https://animehay.biz/thong-tin-phim/quyen-tu-luong-3259.html')\n",
      "('Kimi ni Todoke 3nd Season', ['Anime', 'Tình cảm', 'Học đường', 'Đời thường', 'Shoujo'], 'Hoàn thành', 9.0, 29, 2024, '6 Tập', 'https://animehay.biz/thong-tin-phim/kimi-ni-todoke-3nd-season-4128.html')\n",
      "('SPY×FAMILY CODE: White', ['Anime', 'Hành động', 'Hài hước', 'Đời thường'], 'Hoàn thành', 9.5, 53, 2024, '110 phút', 'https://animehay.biz/thong-tin-phim/spy-family-code-white-4126.html')\n",
      "('Thương Nguyên Đồ', ['CN Animation', 'Huyền ảo'], 'Đang tiến hành', 9.6, 911, 2023, '30 Tập', 'https://animehay.biz/thong-tin-phim/thuong-nguyen-do-3799.html')\n",
      "('Vampire Dormitory', ['Anime', 'Tình cảm', 'Siêu nhiên', 'Ma cà rồng'], 'Hoàn thành', 5.9, 32, 2024, '12 Tập', 'https://animehay.biz/thong-tin-phim/vampire-dormitory-4046.html')\n",
      "('Phản Diện Tái Sinh', ['CN Animation', 'Trùng sinh'], 'Hoàn thành', 7.8, 95, 2024, '16 Tập', 'https://animehay.biz/thong-tin-phim/phan-dien-tai-sinh-4067.html')\n",
      "('Hồi Minh: Phong Hỏa Tam Nguyệt', ['CN Animation', 'Xuyên không', 'Huyền ảo'], 'Đang tiến hành', 8.0, 128, 2024, '?? Tập', 'https://animehay.biz/thong-tin-phim/hoi-minh-phong-hoa-tam-nguyet-4070.html')\n",
      "('Bye Bye, Earth', ['Anime', 'Hành động', 'Giả tưởng', 'Phiêu lưu'], 'Đang tiến hành', 6.3, 14, 2024, '?? Tập', 'https://animehay.biz/thong-tin-phim/bye-bye-earth-4124.html')\n",
      "('Ookami to Koushinryou: merchant meets the wise wolf', ['Anime', 'Tình cảm', 'Giả tưởng', 'Lịch sử', 'Phiêu lưu'], 'Đang tiến hành', 8.2, 97, 2024, '?? Tập', 'https://animehay.biz/thong-tin-phim/ookami-to-koushinryou-merchant-meets-the-wise-wolf-4029.html')\n"
     ]
    },
    {
     "ename": "ModuleNotFoundError",
     "evalue": "No module named 'pyarrow'",
     "output_type": "error",
     "traceback": [
      "\u001b[1;31m---------------------------------------------------------------------------\u001b[0m",
      "\u001b[1;31mModuleNotFoundError\u001b[0m                       Traceback (most recent call last)",
      "Cell \u001b[1;32mIn[14], line 34\u001b[0m\n\u001b[0;32m     31\u001b[0m     \u001b[38;5;28;01mif\u001b[39;00m page \u001b[38;5;241m>\u001b[39m \u001b[38;5;241m3\u001b[39m:\n\u001b[0;32m     32\u001b[0m         proceed \u001b[38;5;241m=\u001b[39m \u001b[38;5;28;01mFalse\u001b[39;00m\n\u001b[1;32m---> 34\u001b[0m \u001b[43msave_data\u001b[49m\u001b[43m(\u001b[49m\u001b[43mtotal_movie_data\u001b[49m\u001b[43m)\u001b[49m\n",
      "Cell \u001b[1;32mIn[13], line 157\u001b[0m, in \u001b[0;36msave_data\u001b[1;34m(data)\u001b[0m\n\u001b[0;32m    155\u001b[0m save_to_json(data, filename)\n\u001b[0;32m    156\u001b[0m data_df \u001b[38;5;241m=\u001b[39m save_to_csv(data, filename)\n\u001b[1;32m--> 157\u001b[0m \u001b[43msave_to_parquet\u001b[49m\u001b[43m(\u001b[49m\u001b[43mdata_df\u001b[49m\u001b[43m,\u001b[49m\u001b[43m \u001b[49m\u001b[43mfilename\u001b[49m\u001b[43m)\u001b[49m\n",
      "Cell \u001b[1;32mIn[13], line 142\u001b[0m, in \u001b[0;36msave_to_parquet\u001b[1;34m(data_df, filename)\u001b[0m\n\u001b[0;32m    140\u001b[0m \u001b[38;5;28;01mdef\u001b[39;00m \u001b[38;5;21msave_to_parquet\u001b[39m(data_df, filename):\n\u001b[1;32m--> 142\u001b[0m     \u001b[38;5;28;01mimport\u001b[39;00m \u001b[38;5;21;01mpyarrow\u001b[39;00m \u001b[38;5;28;01mas\u001b[39;00m \u001b[38;5;21;01mpa\u001b[39;00m\n\u001b[0;32m    143\u001b[0m     \u001b[38;5;28;01mimport\u001b[39;00m \u001b[38;5;21;01mpyarrow\u001b[39;00m\u001b[38;5;21;01m.\u001b[39;00m\u001b[38;5;21;01mparquet\u001b[39;00m \u001b[38;5;28;01mas\u001b[39;00m \u001b[38;5;21;01mpq\u001b[39;00m\n\u001b[0;32m    145\u001b[0m     data_table \u001b[38;5;241m=\u001b[39m pa\u001b[38;5;241m.\u001b[39mTable\u001b[38;5;241m.\u001b[39mfrom_pandas(data_df)\n",
      "\u001b[1;31mModuleNotFoundError\u001b[0m: No module named 'pyarrow'"
     ]
    }
   ],
   "source": [
    "# Infinite scrapper\n",
    "proceed = True\n",
    "page = 2\n",
    "new_checkpoint_data = set()\n",
    "total_movie_data = []\n",
    "current_checkpoint_data = load_checkpoint()\n",
    "while(proceed):\n",
    "\n",
    "    print(page)\n",
    "    movie_items = get_movie_items(page)\n",
    "    for movie in movie_items:\n",
    "\n",
    "        checkpoint_data = get_checkpoint_data(movie)\n",
    "\n",
    "        # Check if the movie item has ben processed on the previous batch or not\n",
    "        if checkpoint_data in current_checkpoint_data:\n",
    "            save_checkpoint(new_checkpoint_data)  # Save this batch as checkpoint for future scrapping batches\n",
    "            proceed = False  # Stop this movie item processing batch\n",
    "            break  \n",
    "\n",
    "        new_checkpoint_data.add(checkpoint_data)\n",
    "\n",
    "        movie_data = extract_data(movie)\n",
    "        if len(movie_data) == 0:  # Skip to next movie in case there is no data\n",
    "            continue\n",
    "\n",
    "        total_movie_data.append(convert_to_dict(id=checkpoint_data[0], data=movie_data))\n",
    "        print(movie_data)\n",
    "\n",
    "    page += 1\n",
    "    if page > 3:\n",
    "        proceed = False\n",
    "\n",
    "save_data(total_movie_data)"
   ]
  },
  {
   "cell_type": "code",
   "execution_count": 17,
   "metadata": {},
   "outputs": [],
   "source": [
    "import findspark\n",
    "findspark.init()"
   ]
  },
  {
   "cell_type": "code",
   "execution_count": 18,
   "metadata": {},
   "outputs": [],
   "source": [
    "from pyspark.sql import SparkSession"
   ]
  },
  {
   "cell_type": "code",
   "execution_count": 19,
   "metadata": {},
   "outputs": [],
   "source": [
    "spark = SparkSession.builder.appName(\"Anime\").getOrCreate()"
   ]
  },
  {
   "cell_type": "code",
   "execution_count": 20,
   "metadata": {},
   "outputs": [],
   "source": [
    "df = spark.read.csv(\"data/csv/2024_09_23.csv\",header=True,inferSchema=True)"
   ]
  },
  {
   "cell_type": "code",
   "execution_count": 21,
   "metadata": {},
   "outputs": [],
   "source": [
    "df_pd = df.toPandas()"
   ]
  },
  {
   "cell_type": "code",
   "execution_count": 22,
   "metadata": {},
   "outputs": [],
   "source": [
    "df_pd['duration_unit'] = df_pd['duration'].str.split(\" \").str[-1]"
   ]
  },
  {
   "cell_type": "code",
   "execution_count": 23,
   "metadata": {},
   "outputs": [],
   "source": [
    "df_pd['duration_2'] = df_pd['duration'].str.split(\" \").str[0]"
   ]
  },
  {
   "cell_type": "code",
   "execution_count": 24,
   "metadata": {},
   "outputs": [],
   "source": [
    "df_pd_processed = df_pd[['id', 'name', 'genre', 'status', 'score', 'review', 'publish_year',\n",
    "       'duration_2', 'duration_unit','link']]"
   ]
  },
  {
   "cell_type": "code",
   "execution_count": 25,
   "metadata": {},
   "outputs": [
    {
     "data": {
      "text/plain": [
       "duration_unit\n",
       "Tập     9866\n",
       "phút    2447\n",
       "Name: count, dtype: int64"
      ]
     },
     "execution_count": 25,
     "metadata": {},
     "output_type": "execute_result"
    }
   ],
   "source": [
    "df_pd_processed['duration_unit'].value_counts()"
   ]
  },
  {
   "cell_type": "code",
   "execution_count": 26,
   "metadata": {},
   "outputs": [
    {
     "data": {
      "text/html": [
       "<div>\n",
       "<style scoped>\n",
       "    .dataframe tbody tr th:only-of-type {\n",
       "        vertical-align: middle;\n",
       "    }\n",
       "\n",
       "    .dataframe tbody tr th {\n",
       "        vertical-align: top;\n",
       "    }\n",
       "\n",
       "    .dataframe thead th {\n",
       "        text-align: right;\n",
       "    }\n",
       "</style>\n",
       "<table border=\"1\" class=\"dataframe\">\n",
       "  <thead>\n",
       "    <tr style=\"text-align: right;\">\n",
       "      <th></th>\n",
       "      <th>id</th>\n",
       "      <th>name</th>\n",
       "      <th>genre</th>\n",
       "      <th>status</th>\n",
       "      <th>score</th>\n",
       "      <th>review</th>\n",
       "      <th>publish_year</th>\n",
       "      <th>duration</th>\n",
       "      <th>link</th>\n",
       "      <th>duration_unit</th>\n",
       "      <th>duration_2</th>\n",
       "    </tr>\n",
       "  </thead>\n",
       "  <tbody>\n",
       "  </tbody>\n",
       "</table>\n",
       "</div>"
      ],
      "text/plain": [
       "Empty DataFrame\n",
       "Columns: [id, name, genre, status, score, review, publish_year, duration, link, duration_unit, duration_2]\n",
       "Index: []"
      ]
     },
     "execution_count": 26,
     "metadata": {},
     "output_type": "execute_result"
    }
   ],
   "source": [
    "df_pd.loc[df_pd['duration_unit'] == '(Nửa']"
   ]
  },
  {
   "cell_type": "code",
   "execution_count": 27,
   "metadata": {},
   "outputs": [
    {
     "data": {
      "text/html": [
       "<div>\n",
       "<style scoped>\n",
       "    .dataframe tbody tr th:only-of-type {\n",
       "        vertical-align: middle;\n",
       "    }\n",
       "\n",
       "    .dataframe tbody tr th {\n",
       "        vertical-align: top;\n",
       "    }\n",
       "\n",
       "    .dataframe thead th {\n",
       "        text-align: right;\n",
       "    }\n",
       "</style>\n",
       "<table border=\"1\" class=\"dataframe\">\n",
       "  <thead>\n",
       "    <tr style=\"text-align: right;\">\n",
       "      <th></th>\n",
       "      <th>id</th>\n",
       "      <th>name</th>\n",
       "      <th>genre</th>\n",
       "      <th>status</th>\n",
       "      <th>score</th>\n",
       "      <th>review</th>\n",
       "      <th>publish_year</th>\n",
       "      <th>duration</th>\n",
       "      <th>link</th>\n",
       "      <th>duration_unit</th>\n",
       "      <th>duration_2</th>\n",
       "    </tr>\n",
       "  </thead>\n",
       "  <tbody>\n",
       "    <tr>\n",
       "      <th>3946</th>\n",
       "      <td>4025</td>\n",
       "      <td>Shingeki no Kyojin: The Final Season</td>\n",
       "      <td>Anime</td>\n",
       "      <td>Đang tiến hành</td>\n",
       "      <td>9.6</td>\n",
       "      <td>1048</td>\n",
       "      <td>2020</td>\n",
       "      <td>16 (Nửa đầu) Tập</td>\n",
       "      <td>https://animehay.in/thong-tin-phim/shingeki-no...</td>\n",
       "      <td>Tập</td>\n",
       "      <td>16</td>\n",
       "    </tr>\n",
       "    <tr>\n",
       "      <th>3947</th>\n",
       "      <td>4025</td>\n",
       "      <td>Shingeki no Kyojin: The Final Season</td>\n",
       "      <td>Hành động</td>\n",
       "      <td>Đang tiến hành</td>\n",
       "      <td>9.6</td>\n",
       "      <td>1048</td>\n",
       "      <td>2020</td>\n",
       "      <td>16 (Nửa đầu) Tập</td>\n",
       "      <td>https://animehay.in/thong-tin-phim/shingeki-no...</td>\n",
       "      <td>Tập</td>\n",
       "      <td>16</td>\n",
       "    </tr>\n",
       "    <tr>\n",
       "      <th>3948</th>\n",
       "      <td>4025</td>\n",
       "      <td>Shingeki no Kyojin: The Final Season</td>\n",
       "      <td>Giả tưởng</td>\n",
       "      <td>Đang tiến hành</td>\n",
       "      <td>9.6</td>\n",
       "      <td>1048</td>\n",
       "      <td>2020</td>\n",
       "      <td>16 (Nửa đầu) Tập</td>\n",
       "      <td>https://animehay.in/thong-tin-phim/shingeki-no...</td>\n",
       "      <td>Tập</td>\n",
       "      <td>16</td>\n",
       "    </tr>\n",
       "    <tr>\n",
       "      <th>3949</th>\n",
       "      <td>4025</td>\n",
       "      <td>Shingeki no Kyojin: The Final Season</td>\n",
       "      <td>Siêu nhiên</td>\n",
       "      <td>Đang tiến hành</td>\n",
       "      <td>9.6</td>\n",
       "      <td>1048</td>\n",
       "      <td>2020</td>\n",
       "      <td>16 (Nửa đầu) Tập</td>\n",
       "      <td>https://animehay.in/thong-tin-phim/shingeki-no...</td>\n",
       "      <td>Tập</td>\n",
       "      <td>16</td>\n",
       "    </tr>\n",
       "    <tr>\n",
       "      <th>3950</th>\n",
       "      <td>4025</td>\n",
       "      <td>Shingeki no Kyojin: The Final Season</td>\n",
       "      <td>Shounen</td>\n",
       "      <td>Đang tiến hành</td>\n",
       "      <td>9.6</td>\n",
       "      <td>1048</td>\n",
       "      <td>2020</td>\n",
       "      <td>16 (Nửa đầu) Tập</td>\n",
       "      <td>https://animehay.in/thong-tin-phim/shingeki-no...</td>\n",
       "      <td>Tập</td>\n",
       "      <td>16</td>\n",
       "    </tr>\n",
       "    <tr>\n",
       "      <th>3951</th>\n",
       "      <td>4025</td>\n",
       "      <td>Shingeki no Kyojin: The Final Season</td>\n",
       "      <td>Bí ẩn</td>\n",
       "      <td>Đang tiến hành</td>\n",
       "      <td>9.6</td>\n",
       "      <td>1048</td>\n",
       "      <td>2020</td>\n",
       "      <td>16 (Nửa đầu) Tập</td>\n",
       "      <td>https://animehay.in/thong-tin-phim/shingeki-no...</td>\n",
       "      <td>Tập</td>\n",
       "      <td>16</td>\n",
       "    </tr>\n",
       "    <tr>\n",
       "      <th>3952</th>\n",
       "      <td>4025</td>\n",
       "      <td>Shingeki no Kyojin: The Final Season</td>\n",
       "      <td>Drama</td>\n",
       "      <td>Đang tiến hành</td>\n",
       "      <td>9.6</td>\n",
       "      <td>1048</td>\n",
       "      <td>2020</td>\n",
       "      <td>16 (Nửa đầu) Tập</td>\n",
       "      <td>https://animehay.in/thong-tin-phim/shingeki-no...</td>\n",
       "      <td>Tập</td>\n",
       "      <td>16</td>\n",
       "    </tr>\n",
       "    <tr>\n",
       "      <th>3953</th>\n",
       "      <td>4025</td>\n",
       "      <td>Shingeki no Kyojin: The Final Season</td>\n",
       "      <td>Quân đội</td>\n",
       "      <td>Đang tiến hành</td>\n",
       "      <td>9.6</td>\n",
       "      <td>1048</td>\n",
       "      <td>2020</td>\n",
       "      <td>16 (Nửa đầu) Tập</td>\n",
       "      <td>https://animehay.in/thong-tin-phim/shingeki-no...</td>\n",
       "      <td>Tập</td>\n",
       "      <td>16</td>\n",
       "    </tr>\n",
       "  </tbody>\n",
       "</table>\n",
       "</div>"
      ],
      "text/plain": [
       "        id                                  name       genre          status  \\\n",
       "3946  4025  Shingeki no Kyojin: The Final Season       Anime  Đang tiến hành   \n",
       "3947  4025  Shingeki no Kyojin: The Final Season   Hành động  Đang tiến hành   \n",
       "3948  4025  Shingeki no Kyojin: The Final Season   Giả tưởng  Đang tiến hành   \n",
       "3949  4025  Shingeki no Kyojin: The Final Season  Siêu nhiên  Đang tiến hành   \n",
       "3950  4025  Shingeki no Kyojin: The Final Season     Shounen  Đang tiến hành   \n",
       "3951  4025  Shingeki no Kyojin: The Final Season       Bí ẩn  Đang tiến hành   \n",
       "3952  4025  Shingeki no Kyojin: The Final Season       Drama  Đang tiến hành   \n",
       "3953  4025  Shingeki no Kyojin: The Final Season    Quân đội  Đang tiến hành   \n",
       "\n",
       "      score  review  publish_year          duration  \\\n",
       "3946    9.6    1048          2020  16 (Nửa đầu) Tập   \n",
       "3947    9.6    1048          2020  16 (Nửa đầu) Tập   \n",
       "3948    9.6    1048          2020  16 (Nửa đầu) Tập   \n",
       "3949    9.6    1048          2020  16 (Nửa đầu) Tập   \n",
       "3950    9.6    1048          2020  16 (Nửa đầu) Tập   \n",
       "3951    9.6    1048          2020  16 (Nửa đầu) Tập   \n",
       "3952    9.6    1048          2020  16 (Nửa đầu) Tập   \n",
       "3953    9.6    1048          2020  16 (Nửa đầu) Tập   \n",
       "\n",
       "                                                   link duration_unit  \\\n",
       "3946  https://animehay.in/thong-tin-phim/shingeki-no...           Tập   \n",
       "3947  https://animehay.in/thong-tin-phim/shingeki-no...           Tập   \n",
       "3948  https://animehay.in/thong-tin-phim/shingeki-no...           Tập   \n",
       "3949  https://animehay.in/thong-tin-phim/shingeki-no...           Tập   \n",
       "3950  https://animehay.in/thong-tin-phim/shingeki-no...           Tập   \n",
       "3951  https://animehay.in/thong-tin-phim/shingeki-no...           Tập   \n",
       "3952  https://animehay.in/thong-tin-phim/shingeki-no...           Tập   \n",
       "3953  https://animehay.in/thong-tin-phim/shingeki-no...           Tập   \n",
       "\n",
       "     duration_2  \n",
       "3946         16  \n",
       "3947         16  \n",
       "3948         16  \n",
       "3949         16  \n",
       "3950         16  \n",
       "3951         16  \n",
       "3952         16  \n",
       "3953         16  "
      ]
     },
     "execution_count": 27,
     "metadata": {},
     "output_type": "execute_result"
    }
   ],
   "source": [
    "df_pd[df_pd['name'] == 'Shingeki no Kyojin: The Final Season']"
   ]
  },
  {
   "cell_type": "code",
   "execution_count": 28,
   "metadata": {},
   "outputs": [],
   "source": [
    "spark.stop()"
   ]
  },
  {
   "cell_type": "code",
   "execution_count": 29,
   "metadata": {},
   "outputs": [
    {
     "data": {
      "text/plain": [
       "12313"
      ]
     },
     "execution_count": 29,
     "metadata": {},
     "output_type": "execute_result"
    }
   ],
   "source": [
    "len(df_pd)"
   ]
  },
  {
   "cell_type": "code",
   "execution_count": 30,
   "metadata": {},
   "outputs": [
    {
     "data": {
      "text/plain": [
       "12313"
      ]
     },
     "execution_count": 30,
     "metadata": {},
     "output_type": "execute_result"
    }
   ],
   "source": [
    "9866+2447"
   ]
  },
  {
   "cell_type": "code",
   "execution_count": 1,
   "metadata": {},
   "outputs": [],
   "source": [
    "from bs4 import BeautifulSoup\n",
    "from selenium import webdriver\n",
    "from selenium.webdriver.edge.options import Options\n",
    "from time import sleep"
   ]
  },
  {
   "cell_type": "code",
   "execution_count": 4,
   "metadata": {},
   "outputs": [],
   "source": [
    "option = Options()\n",
    "option.add_argument(\"--headless\")  # Run Edge in headless mode\n",
    "option.add_argument('--ignore-certificate-errors')\n",
    "option.add_argument('--allow-insecure-localhost')\n",
    "\n",
    "driver = webdriver.Edge(options=option)"
   ]
  },
  {
   "cell_type": "code",
   "execution_count": 5,
   "metadata": {},
   "outputs": [],
   "source": [
    "page = 999\n",
    "\n",
    "domain_name = 'animehay.biz'\n",
    "url = f'https://{domain_name}/phim-moi-cap-nhap/trang-{page}.html'\n",
    "driver.get(url)\n",
    "sleep(1)\n",
    "\n",
    "page_html = driver.page_source"
   ]
  },
  {
   "cell_type": "code",
   "execution_count": 7,
   "metadata": {},
   "outputs": [],
   "source": [
    "soup = BeautifulSoup(page_html, 'html.parser')\n",
    "movie_items = soup.find_all('div', class_='movie-item')"
   ]
  },
  {
   "cell_type": "code",
   "execution_count": 8,
   "metadata": {},
   "outputs": [
    {
     "data": {
      "text/plain": [
       "[]"
      ]
     },
     "execution_count": 8,
     "metadata": {},
     "output_type": "execute_result"
    }
   ],
   "source": [
    "movie_items"
   ]
  },
  {
   "cell_type": "code",
   "execution_count": null,
   "metadata": {},
   "outputs": [],
   "source": []
  }
 ],
 "metadata": {
  "kernelspec": {
   "display_name": "web_crawling",
   "language": "python",
   "name": "python3"
  },
  "language_info": {
   "codemirror_mode": {
    "name": "ipython",
    "version": 3
   },
   "file_extension": ".py",
   "mimetype": "text/x-python",
   "name": "python",
   "nbconvert_exporter": "python",
   "pygments_lexer": "ipython3",
   "version": "3.10.9"
  }
 },
 "nbformat": 4,
 "nbformat_minor": 2
}
