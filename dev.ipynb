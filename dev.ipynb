{
 "cells": [
  {
   "cell_type": "code",
   "execution_count": 3,
   "metadata": {},
   "outputs": [],
   "source": [
    "import requests\n",
    "from bs4 import BeautifulSoup"
   ]
  },
  {
   "cell_type": "code",
   "execution_count": 2,
   "metadata": {},
   "outputs": [],
   "source": [
    "url = 'https://animehay.in/phim-moi-cap-nhap/trang-1.html'\n",
    "response = requests.get(url)\n",
    "soup = BeautifulSoup(response.content, 'html.parser')"
   ]
  },
  {
   "cell_type": "code",
   "execution_count": 3,
   "metadata": {},
   "outputs": [],
   "source": [
    "movie_items = soup.find_all('div', class_='movie-item')"
   ]
  },
  {
   "cell_type": "code",
   "execution_count": 17,
   "metadata": {},
   "outputs": [],
   "source": [
    "def get_checkpoint_data(movie) -> tuple[int, str]:\n",
    "\n",
    "    movie_id = int(movie['id'][9:])\n",
    "    movie_latest_ep = movie.find('div', class_='episode-latest').text\n",
    "    \n",
    "    return (movie_id, movie_latest_ep)\n",
    "\n",
    "\n",
    "def save_checkpoint(checkpoint_set):\n",
    "\n",
    "    import pickle\n",
    "    CHECKPOINT_PATH = './data/checkpoint.pkl'\n",
    "\n",
    "    with open(CHECKPOINT_PATH, 'wb') as f:\n",
    "        pickle.dump(checkpoint_set, f)\n",
    "\n",
    "\n",
    "def load_checkpoint() -> set[int, str]:\n",
    "    import pickle\n",
    "    CHECKPOINT_PATH = './data/checkpoint.pkl'\n",
    "\n",
    "    with open(CHECKPOINT_PATH, 'rb') as f:\n",
    "        data = pickle.load(f)\n",
    "\n",
    "    return data\n",
    "\n",
    "\n",
    "def get_movie_items(page):\n",
    "\n",
    "    url = f'https://animehay.in/phim-moi-cap-nhap/trang-{page}.html'\n",
    "    html_page = requests.get(url)\n",
    "    soup = BeautifulSoup(html_page.content, 'html.parser')\n",
    "    movie_items = soup.find_all('div', class_='movie-item')\n",
    "\n",
    "    return movie_items\n",
    "\n",
    "\n",
    "\n",
    "def extract_data(movie) -> tuple:\n",
    "    \n",
    "    from requests import  ConnectionError\n",
    "\n",
    "    link = movie.select('a:nth-child(2)')[0]['href']\n",
    "    response = requests.get(link)\n",
    "    \n",
    "    if response.status_code != 200:\n",
    "        return ()\n",
    "\n",
    "    soup = BeautifulSoup(response.content, 'html.parser')\n",
    "    \n",
    "    movie_data = soup.find('div', class_='last')\n",
    "\n",
    "    if movie_data is None:\n",
    "        return ()\n",
    "    \n",
    "    name = soup.find('h1', class_='heading_movie').text.strip()\n",
    "\n",
    "    raw_categories = movie_data.find('div', class_='list_cate') \\\n",
    "                            .text.split('\\n')[4:-1:2]\n",
    "    categories = [category.strip() for category in raw_categories]\n",
    "\n",
    "    movie_status = movie_data.find('div', class_='status') \\\n",
    "                    .select('div:nth-child(2)')[0] \\\n",
    "                    .text.strip()\n",
    "    \n",
    "    score_and_review = movie_data.find('div', class_='score') \\\n",
    "                                .select('div:nth-child(2)')[0].text.split()[:-2:2]\n",
    "    score, review = score_and_review[0], score_and_review[1]\n",
    "\n",
    "    publish_year = movie_data.find('div', class_='update_time') \\\n",
    "                            .select('div:nth-child(2)')[0].text.strip()\n",
    "    \n",
    "    duration = movie_data.find('div', class_='duration') \\\n",
    "                        .select('div:nth-child(2)')[0].text.strip()\n",
    "    \n",
    "    return (name, categories, movie_status, score, review, publish_year, duration, link)\n",
    "\n",
    "def convert_to_dict(id, data) -> dict:\n",
    "\n",
    "    result_dict = {\n",
    "        'id': id,\n",
    "        'name': data[0],\n",
    "        'categories': data[1],\n",
    "        'status': data[2],\n",
    "        'score': float(data[3]),\n",
    "        'review': int(data[4]),\n",
    "        'publish_year': int(data[5]),\n",
    "        'duration': data[6],\n",
    "        'link': data[7]\n",
    "    }\n",
    "    return result_dict\n",
    "\n",
    "\n",
    "# def save_to_csv(movie_data):\n",
    "\n",
    "#     import pandas as pd\n",
    "    \n",
    "\n",
    "#     file_name = datetime.today().strftime('%Y_%m_%d')\n",
    "\n",
    "\n",
    "def save_to_json(data):\n",
    "\n",
    "    import json\n",
    "    from datetime import datetime\n",
    "\n",
    "    file_name = datetime.today().strftime('%Y_%m_%d')\n",
    "    with open(f'./data/json/{file_name}.json', 'w', encoding='utf-8') as f:\n",
    "        json.dump(data, f)\n"
   ]
  },
  {
   "cell_type": "code",
   "execution_count": 18,
   "metadata": {},
   "outputs": [
    {
     "name": "stdout",
     "output_type": "stream",
     "text": [
      "14\n",
      "('Đan Đạo Tông Sư', ['CN Animation', 'Kiếm hiệp', 'Huyền ảo'], 'Đang tiến hành', '5.8', '122', '2023', '40 Tập', 'https://animehay.in/thong-tin-phim/dan-dao-tong-su-3719.html')\n",
      "('Mobile Suit Gundam: Suisei no Majo Season 2', ['Anime', 'Hành động', 'Mecha', 'Viễn tưởng'], 'Hoàn thành', '7.0', '69', '2023', '12 Tập', 'https://animehay.in/thong-tin-phim/mobile-suit-gundam-suisei-no-majo-season-2-3776.html')\n",
      "('Ở Rể', ['CN Animation'], 'Đang tiến hành', '8.7', '316', '2023', '12 Tập', 'https://animehay.in/thong-tin-phim/o-re-3781.html')\n",
      "('Jigokuraku', ['Anime', 'Hành động', 'Giả tưởng', 'Lịch sử', 'Kinh dị'], 'Hoàn thành', '9.6', '604', '2023', '13 Tập', 'https://animehay.in/thong-tin-phim/jigokuraku-3727.html')\n",
      "('Mashle', ['Anime', 'Hành động', 'Hài hước', 'Giả tưởng', 'Học đường', 'Shounen'], 'Hoàn thành', '9.3', '608', '2023', '12 Tập', 'https://animehay.in/thong-tin-phim/mashle-3752.html')\n",
      "('Isekai de Cheat Skill wo Te ni Shita Ore wa, Genjitsu Sekai wo mo Musou Suru: Level Up wa Jinsei wo Kaeta', ['Anime', 'Hành động', 'Giả tưởng', 'Học đường', 'Phiêu lưu'], 'Hoàn thành', '8.2', '701', '2023', '13 Tập', 'https://animehay.in/thong-tin-phim/isekai-de-cheat-skill-wo-te-ni-shita-ore-wa-genjitsu-sekai-wo-mo-musou-suru-level-up-wa-jinsei-wo-kaeta-3734.html')\n",
      "('The Marginal Service', ['Anime', 'Hành động', 'Viễn tưởng'], 'Hoàn thành', '3.1', '55', '2023', '12 Tập', 'https://animehay.in/thong-tin-phim/the-marginal-service-3775.html')\n",
      "('Oshi no Ko', ['Anime', 'Drama', 'Seinen', 'Siêu nhiên'], 'Hoàn thành', '9.0', '641', '2023', '11 Tập', 'https://animehay.in/thong-tin-phim/oshi-no-ko-3771.html')\n",
      "('World Dai Star', ['Anime', 'Đời thường', 'Âm nhạc'], 'Đang tiến hành', '5.0', '54', '2023', '?? Tập', 'https://animehay.in/thong-tin-phim/world-dai-star-3770.html')\n",
      "('Kanojo ga Koushaku-tei ni Itta Riyuu', ['Anime', 'Tình cảm', 'Giả tưởng'], 'Hoàn thành', '7.5', '125', '2023', '12 Tập', 'https://animehay.in/thong-tin-phim/kanojo-ga-koushaku-tei-ni-itta-riyuu-3766.html')\n",
      "('Kizuna no Allele', ['Anime', 'Âm nhạc'], 'Hoàn thành', '5.6', '82', '2023', '12 Tập', 'https://animehay.in/thong-tin-phim/kizuna-no-allele-3760.html')\n",
      "('Jijou wo Shiranai Tenkousei ga Guigui Kuru.', ['Anime', 'Hài hước', 'Học đường', 'Shounen'], 'Hoàn thành', '7.3', '94', '2023', '12 Tập', 'https://animehay.in/thong-tin-phim/jijou-wo-shiranai-tenkousei-ga-guigui-kuru-3733.html')\n",
      "('Mahou Shoujo Magical Destroyers', ['Anime', 'Hành động', 'Giả tưởng', 'Shoujo'], 'Hoàn thành', '4.5', '79', '2023', '12 Tập', 'https://animehay.in/thong-tin-phim/mahou-shoujo-magical-destroyers-3761.html')\n",
      "('Megami no Café Terrace', ['Anime', 'Hài hước', 'Tình cảm', 'Harem', 'Shounen', 'Ecchi'], 'Hoàn thành', '8.7', '229', '2023', '12 Tập', 'https://animehay.in/thong-tin-phim/megami-no-cafe-terrace-3762.html')\n",
      "('Rokudou no Onna-tachi', ['Anime', 'Hài hước', 'Tình cảm', 'Harem', 'Học đường', 'Shounen'], 'Hoàn thành', '6.7', '88', '2023', '12 Tập', 'https://animehay.in/thong-tin-phim/rokudou-no-onna-tachi-3763.html')\n",
      "('Otonari ni Ginga', ['Anime', 'Hài hước', 'Tình cảm', 'Seinen'], 'Hoàn thành', '8.5', '196', '2023', '12 Tập', 'https://animehay.in/thong-tin-phim/otonari-ni-ginga-3756.html')\n",
      "('Isekai Shoukan wa Nidome desu', ['Anime', 'Hành động', 'Hài hước', 'Tình cảm', 'Harem', 'Giả tưởng'], 'Hoàn thành', '7.5', '221', '2023', '12 Tập', 'https://animehay.in/thong-tin-phim/isekai-shoukan-wa-nidome-desu-3755.html')\n",
      "('Isekai One Turn Kill Nee-san', ['Anime', 'Hài hước', 'Giả tưởng', 'Seinen'], 'Hoàn thành', '7.0', '141', '2023', '12 Tập', 'https://animehay.in/thong-tin-phim/isekai-one-turn-kill-nee-san-3758.html')\n",
      "('Yamada-kun to Lv999 no Koi wo Suru', ['Anime', 'Tình cảm', 'Trò chơi'], 'Hoàn thành', '8.9', '372', '2023', '13 Tập', 'https://animehay.in/thong-tin-phim/yamada-kun-to-lv999-no-koi-wo-suru-3729.html')\n",
      "('Tengoku Daimakyou', ['Anime', 'Hành động', 'Giả tưởng', 'Seinen', 'Phiêu lưu', 'Viễn tưởng'], 'Hoàn thành', '8.1', '256', '2023', '13 Tập', 'https://animehay.in/thong-tin-phim/tengoku-daimakyou-3728.html')\n",
      "('Kawaisugi Crisis', ['Anime', 'Hài hước', 'Shounen', 'Viễn tưởng'], 'Hoàn thành', '5.6', '60', '2023', '12 Tập', 'https://animehay.in/thong-tin-phim/kawaisugi-crisis-3759.html')\n",
      "('Watashi no Yuri wa Oshigoto desu!', ['Anime', 'Hài hước', 'Shoujo AI'], 'Hoàn thành', '6.6', '98', '2023', '12 Tập', 'https://animehay.in/thong-tin-phim/watashi-no-yuri-wa-oshigoto-desu-3748.html')\n",
      "('Edomae Elf', ['Anime', 'Hành động', 'Shounen', 'Siêu nhiên'], 'Hoàn thành', '7.7', '138', '2023', '12 Tập', 'https://animehay.in/thong-tin-phim/edomae-elf-3753.html')\n",
      "(\"Birdie Wing: Golf Girls' Story Season 2\", ['Anime', 'Thể thao'], 'Hoàn thành', '6.4', '74', '2023', '12 Tập', 'https://animehay.in/thong-tin-phim/birdie-wing-golf-girls-story-season-2-3757.html')\n",
      "('Tonikaku Kawaii 2nd Season', ['Anime', 'Hài hước', 'Tình cảm', 'Đời thường', 'Shounen'], 'Đang tiến hành', '8.7', '262', '2023', '12 Tập', 'https://animehay.in/thong-tin-phim/tonikaku-kawaii-2nd-season-3754.html')\n",
      "('Yuusha ga Shinda!', ['Anime', 'Hành động', 'Hài hước', 'Harem', 'Giả tưởng', 'Ecchi'], 'Hoàn thành', '7.8', '176', '2023', '12 Tập', 'https://animehay.in/thong-tin-phim/yuusha-ga-shinda-3745.html')\n",
      "('Kono Subarashii Sekai ni Bakuen wo!', ['Anime', 'Hài hước', 'Giả tưởng'], 'Hoàn thành', '8.9', '308', '2023', '12 Tập', 'https://animehay.in/thong-tin-phim/kono-subarashii-sekai-ni-bakuen-wo-3742.html')\n",
      "('Skip and Loafer', ['Anime', 'Học đường', 'Drama'], 'Hoàn thành', '8.2', '133', '2023', '12 Tập', 'https://animehay.in/thong-tin-phim/skip-and-loafer-3738.html')\n",
      "('Kubo-san wa Mob o Yurusanai', ['Anime', 'Hài hước', 'Tình cảm', 'Học đường'], 'Hoàn thành', '9.2', '365', '2023', '12 Tập', 'https://animehay.in/thong-tin-phim/kubo-san-wa-mob-o-yurusanai-3696.html')\n",
      "15\n",
      "('Isekai wa Smartphone to Tomo ni. 2', ['Hành động', 'Hài hước', 'Tình cảm', 'Harem', 'Giả tưởng'], 'Hoàn thành', '8.1', '380', '2023', '12 Tập', 'https://animehay.in/thong-tin-phim/isekai-wa-smartphone-to-tomo-ni-2-3736.html')\n",
      "('Vinland Saga Season 2', ['Anime', 'Hành động', 'Bi kịch', 'Lịch sử', 'Phiêu lưu'], 'Hoàn thành', '8.7', '250', '2023', '24 Tập', 'https://animehay.in/thong-tin-phim/vinland-saga-season-2-3695.html')\n",
      "('Tensei Kizoku no Isekai Boukenroku: Jichou wo Shiranai Kamigami no Shito', ['Anime', 'Hành động', 'Hài hước', 'Tình cảm', 'Harem', 'Giả tưởng'], 'Hoàn thành', '8.5', '381', '2023', '12 Tập', 'https://animehay.in/thong-tin-phim/tensei-kizoku-no-isekai-boukenroku-jichou-wo-shiranai-kamigami-no-shito-3737.html')\n",
      "('Kuma Kuma Kuma Bear 2nd Season', ['Anime', 'Hành động', 'Hài hước', 'Giả tưởng'], 'Hoàn thành', '8.0', '159', '2023', '12 Tập', 'https://animehay.in/thong-tin-phim/kuma-kuma-kuma-bear-2nd-season-3732.html')\n",
      "('Alice Gear Aegis Expansion', ['Anime', 'Hành động', 'Mecha', 'Viễn tưởng'], 'Hoàn thành', '4.8', '73', '2023', '12 Tập', 'https://animehay.in/thong-tin-phim/alice-gear-aegis-expansion-3740.html')\n",
      "('Kimetsu no Yaiba: Katanakaji no Sato-hen', ['Anime', 'Hành động', 'Giả tưởng', 'Shounen'], 'Hoàn thành', '9.5', '830', '2023', '11 Tập', 'https://animehay.in/thong-tin-phim/kimetsu-no-yaiba-katanakaji-no-sato-hen-3765.html')\n",
      "('Black Clover: Thanh kiếm của Ma pháp Vương', ['Anime', 'Hành động', 'Hài hước', 'Shounen', 'Phiêu lưu', 'Viễn tưởng'], 'Hoàn thành', '9.7', '212', '2023', '113 phút', 'https://animehay.in/thong-tin-phim/black-clover-thanh-kiem-cua-ma-phap-vuong-3798.html')\n",
      "('Aru Asa Dummy Head Mic ni Natteita Ore-kun no Jinsei', ['Anime', 'Tình cảm', 'Học đường', 'Đời thường', 'Shoujo AI'], 'Hoàn thành', '4.2', '50', '2022', '12 Tập', 'https://animehay.in/thong-tin-phim/aru-asa-dummy-head-mic-ni-natteita-ore-kun-no-jinsei-3634.html')\n",
      "('Ousama Ranking: Yuuki no Takarabako', ['Anime', 'Hài hước', 'Siêu nhiên', 'Phiêu lưu'], 'Hoàn thành', '7.9', '155', '2023', '10 Tập', 'https://animehay.in/thong-tin-phim/ousama-ranking-yuuki-no-takarabako-3773.html')\n",
      "('Đấu La Đại Lục', ['CN Animation', 'Huyền ảo', 'Dị giới'], 'Hoàn thành', '9.5', '7067', '2018', '263 Tập', 'https://animehay.in/thong-tin-phim/dau-la-dai-luc-2451.html')\n",
      "('Đường hầm đến mùa hạ và tận cùng là biệt ly', ['Anime', 'Tình cảm', 'Drama', 'Siêu nhiên'], 'Hoàn thành', '9.8', '260', '2022', '82 phút', 'https://animehay.in/thong-tin-phim/duong-ham-den-mua-ha-va-tan-cung-la-biet-ly-3794.html')\n",
      "('Sword Art Online the Movie: Progressive - Scherzo of Deep Night', ['Anime', 'Hành động', 'Tình cảm', 'Trò chơi', 'Phiêu lưu'], 'Đang tiến hành', '9.4', '179', '2022', '100 phút', 'https://animehay.in/thong-tin-phim/sword-art-online-the-movie-progressive-scherzo-of-deep-night-3793.html')\n",
      "('Hula Fulla Dance', ['Anime', 'Đời thường'], 'Hoàn thành', '4.0', '12', '2021', '108 phút', 'https://animehay.in/thong-tin-phim/hula-fulla-dance-3792.html')\n",
      "('Yowamushi Pedal OVA – Special Ride', ['Anime', 'Hài hước', 'Thể thao'], 'Hoàn thành', 'NaN', '9', '2013', '20 phút', 'https://animehay.in/thong-tin-phim/yowamushi-pedal-ova-special-ride-3791.html')\n",
      "('Chiba Pedal: Yowamushi Pedal to Manabu Jitensha Koutsuu Anzen', ['Anime', 'Hài hước', 'Thể thao'], 'Hoàn thành', 'NaN', '8', '2016', '6 Tập', 'https://animehay.in/thong-tin-phim/chiba-pedal-yowamushi-pedal-to-manabu-jitensha-koutsuu-anzen-3790.html')\n",
      "('Yakitori: Soldiers of Misfortune', ['Anime', 'Hành động', 'Bí ẩn', 'Viễn tưởng'], 'Hoàn thành', 'NaN', '8', '2023', '6 Tập', 'https://animehay.in/thong-tin-phim/yakitori-soldiers-of-misfortune-3789.html')\n",
      "('Kagami no Kojou', ['Anime', 'Bí ẩn', 'Giả tưởng', 'Drama'], 'Hoàn thành', '7.8', '57', '2022', '116 phút', 'https://animehay.in/thong-tin-phim/kagami-no-kojou-3788.html')\n",
      "('Họa Giang Hồ chi Bất Lương Nhân Phần 6', ['CN Animation', 'Kiếm hiệp', 'Võ hiệp'], 'Hoàn thành', '8.6', '840', '2023', '12 Tập', 'https://animehay.in/thong-tin-phim/hoa-giang-ho-chi-bat-luong-nhan-phan-6-3720.html')\n",
      "('Tsurune: Tsunagari no Issha (Ss2)', ['Anime', 'Học đường', 'Thể thao', 'Drama'], 'Hoàn thành', '7.1', '71', '2023', '13 Tập', 'https://animehay.in/thong-tin-phim/tsurune-tsunagari-no-issha-ss2-3716.html')\n",
      "('Tokyo Mew Mew New~♡ 2nd Season', ['Anime', 'Tình cảm', 'Giả tưởng', 'Shoujo', 'Viễn tưởng'], 'Đang tiến hành', '6.8', '69', '2023', '?? Tập', 'https://animehay.in/thong-tin-phim/tokyo-mew-mew-new-2nd-season-3749.html')\n",
      "('Paripi Koumei', ['Anime', 'Hài hước'], 'Đang tiến hành', '9.3', '594', '2022', '12 Tập', 'https://animehay.in/thong-tin-phim/paripi-koumei-3461.html')\n",
      "('Inu ni Nattara Suki na Hito ni Hirowareta', ['Anime', 'Hài hước', 'Tình cảm', 'Ecchi'], 'Hoàn thành', '6.2', '177', '2023', '12 Tập', 'https://animehay.in/thong-tin-phim/inu-ni-nattara-suki-na-hito-ni-hirowareta-3674.html')\n",
      "('Vũ Canh Kỷ phần 4', ['CN Animation', 'Võ hiệp', 'Huyền ảo'], 'Đang tiến hành', '7.2', '235', '2021', '42 Tập', 'https://animehay.in/thong-tin-phim/vu-canh-ky-phan-4-3302.html')\n",
      "('Yuru Camp△ Movie', ['Anime', 'Hài hước', 'Học đường', 'Đời thường'], 'Hoàn thành', '7.7', '43', '2023', '120 phút', 'https://animehay.in/thong-tin-phim/yuru-camp-movie-3785.html')\n",
      "('Fate/kaleid liner Prisma☆Illya Movie: Licht', ['Anime', 'Hành động', 'Viễn tưởng'], 'Hoàn thành', '7.5', '29', '2023', '104 phút', 'https://animehay.in/thong-tin-phim/fate-kaleid-liner-prisma-illya-movie-licht-3784.html')\n",
      "('Thám Tử Lừng Danh Conan: Câu Chuyện Về Haibara Ai Chuyến Tàu Sắt Bí Ẩn Màu Đen', ['Anime', 'Bí ẩn', 'Thám tử', 'Phiêu lưu'], 'Hoàn thành', '6.0', '34', '2023', '90 phút', 'https://animehay.in/thong-tin-phim/tham-tu-lung-danh-conan-cau-chuyen-ve-haibara-ai-chuyen-tau-sat-bi-an-mau-den-3783.html')\n",
      "('Princess Principal: Crown Handler Movie', ['Anime', 'Hành động', 'Bí ẩn', 'Phiêu lưu'], 'Hoàn thành', '7.2', '23', '2023', '53 phút', 'https://animehay.in/thong-tin-phim/princess-principal-crown-handler-movie-3782.html')\n",
      "('Ta Nhặt Được Thuộc Tính Đầy Đất', ['CN Animation', 'Tiên hiệp', 'Huyền ảo', '[CNA] Hài hước', 'Xuyên không'], 'Đang tiến hành', '7.7', '145', '2023', '16 Tập', 'https://animehay.in/thong-tin-phim/ta-nhat-duoc-thuoc-tinh-day-dat-3718.html')\n",
      "('Itai no wa Iya nano de Bougyoryoku ni Kyokufuri Shitai to Omoimasu. 2', ['Anime', 'Hành động', 'Hài hước', 'Giả tưởng', 'Trò chơi', 'Phiêu lưu'], 'Hoàn thành', '8.8', '334', '2023', '12 Tập', 'https://animehay.in/thong-tin-phim/itai-no-wa-iya-nano-de-bougyoryoku-ni-kyokufuri-shitai-to-omoimasu-2-3698.html')\n",
      "('Majutsushi Orphen Hagure Tabi: Urbanrama-hen (Ss3)', ['Anime', 'Hành động', 'Giả tưởng', 'Võ thuật', 'Drama', 'Phiêu lưu'], 'Hoàn thành', '4.0', '49', '2023', '12 Tập', 'https://animehay.in/thong-tin-phim/majutsushi-orphen-hagure-tabi-urbanrama-hen-ss3-3709.html')\n",
      "16\n",
      "('Cửu Châu Phiêu Miểu Lục', ['CN Animation', 'Kiếm hiệp'], 'Đang tiến hành', '7.5', '136', '2023', '15 Tập', 'https://animehay.in/thong-tin-phim/cuu-chau-phieu-mieu-luc-3711.html')\n",
      "('Cool Doji Danshi', ['Anime', 'Hài hước'], 'Hoàn thành', '6.2', '72', '2022', '24 Tập', 'https://animehay.in/thong-tin-phim/cool-doji-danshi-3632.html')\n",
      "('Thần Lan Kỳ Vực Vô Song Châu', ['CN Animation', 'Huyền ảo', 'Dị giới'], 'Đang tiến hành', '8.2', '290', '2022', '30 Tập', 'https://animehay.in/thong-tin-phim/than-lan-ky-vuc-vo-song-chau-3561.html')\n",
      "('Thanh Gươm Diệt Quỷ Phần 2: Phố Đèn Đỏ (Kỹ Viện Trấn)', ['Anime', 'Hành động', 'Lịch sử', 'Shounen', 'Siêu nhiên'], 'Hoàn thành', '6.2', '167', '2023', '100 phút', 'https://animehay.in/thong-tin-phim/thanh-guom-diet-quy-phan-2-pho-den-do-ky-vien-tran-3751.html')\n",
      "('Boku ga Aishita Subete no Kimi e', ['Anime', 'Tình cảm', 'Viễn tưởng'], 'Hoàn thành', '9.0', '117', '2022', '102 phút', 'https://animehay.in/thong-tin-phim/boku-ga-aishita-subete-no-kimi-e-3744.html')\n",
      "('Kaguya-sama wa Kokurasetai: First Kiss wa Owaranai', ['Anime', 'Hài hước', 'Tình cảm', 'Học đường', 'Drama', 'Seinen'], 'Hoàn thành', '8.7', '160', '2023', '4 Tập', 'https://animehay.in/thong-tin-phim/kaguya-sama-wa-kokurasetai-first-kiss-wa-owaranai-3741.html')\n",
      "('Nokemono-tachi no Yoru', ['Anime', 'Giả tưởng', 'Lịch sử', 'Shounen'], 'Hoàn thành', '7.2', '84', '2023', '13 Tập', 'https://animehay.in/thong-tin-phim/nokemono-tachi-no-yoru-3700.html')\n",
      "('Mou Ippon!', ['Anime', 'Học đường', 'Võ thuật', 'Thể thao'], 'Hoàn thành', '4.7', '62', '2023', '13 Tập', 'https://animehay.in/thong-tin-phim/mou-ippon-3701.html')\n",
      "('Pokemon: Mezase Pokemon Master', ['Anime', 'Hành động', 'Hài hước', 'Giả tưởng', 'Phiêu lưu'], 'Hoàn thành', '7.6', '85', '2023', '11 Tập', 'https://animehay.in/thong-tin-phim/pokemon-mezase-pokemon-master-3710.html')\n",
      "('Saikyou Onmyouji no Isekai Tenseiki', ['Anime', 'Hành động', 'Siêu nhiên', 'Phiêu lưu'], 'Hoàn thành', '8.9', '635', '2023', '13 Tập', 'https://animehay.in/thong-tin-phim/saikyou-onmyouji-no-isekai-tenseiki-3684.html')\n",
      "('Shin Shinka no Mi: Shiranai Uchi ni Kachigumi Jinsei (Ss2)', ['Anime', 'Hành động', 'Tình cảm', 'Harem'], 'Hoàn thành', '6.8', '211', '2023', '12 Tập', 'https://animehay.in/thong-tin-phim/shin-shinka-no-mi-shiranai-uchi-ni-kachigumi-jinsei-ss2-3704.html')\n",
      "('Buddy Daddies', ['Anime', 'Hành động', 'Hài hước', 'Đời thường'], 'Hoàn thành', '8.8', '271', '2023', '12 Tập', 'https://animehay.in/thong-tin-phim/buddy-daddies-3679.html')\n",
      "('Spy Kyoushitsu', ['Anime', 'Hành động', 'Hài hước', 'Tình cảm', 'Bí ẩn'], 'Hoàn thành', '7.9', '162', '2023', '12 Tập', 'https://animehay.in/thong-tin-phim/spy-kyoushitsu-3671.html')\n",
      "('Kantai Collection Itsuka Ano Umi de', ['Anime', 'Hành động', 'Học đường', 'Quân đội', 'Viễn tưởng'], 'Đang tiến hành', '4.0', '53', '2022', '8 Tập', 'https://animehay.in/thong-tin-phim/kantai-collection-itsuka-ano-umi-de-3642.html')\n",
      "('Tomo-chan wa Onnanoko!', ['Anime', 'Hài hước', 'Tình cảm', 'Học đường'], 'Đang tiến hành', '8.9', '381', '2023', '13 Tập', 'https://animehay.in/thong-tin-phim/tomo-chan-wa-onnanoko-3666.html')\n",
      "('Bungou Stray Dogs 4th Season', ['Hành động', 'Bí ẩn', 'Thám tử', 'Siêu năng lực', 'Siêu nhiên'], 'Hoàn thành', '8.5', '191', '2023', '13 Tập', 'https://animehay.in/thong-tin-phim/bungou-stray-dogs-4th-season-3665.html')\n",
      "('Tondemo Skill De Isekai Hourou Meshi', ['Anime', 'Hành động', 'Hài hước', 'Siêu nhiên'], 'Hoàn thành', '9.1', '474', '2023', '12 Tập', 'https://animehay.in/thong-tin-phim/tondemo-skill-de-isekai-hourou-meshi-3697.html')\n",
      "('Yowamushi Pedal: Limit Break', ['Anime', 'Học đường', 'Thể thao'], 'Hoàn thành', '7.0', '104', '2022', '25 Tập', 'https://animehay.in/thong-tin-phim/yowamushi-pedal-limit-break-3627.html')\n",
      "('Eiyuu-ou, bu o Kiwameru tame tensei su - Soshite, Sekai Saikyou no Minarai Kishi ♀~', ['Anime', 'Hành động', 'Siêu nhiên'], 'Hoàn thành', '8.2', '339', '2023', '12 Tập', 'https://animehay.in/thong-tin-phim/eiyuu-ou-bu-o-kiwameru-tame-tensei-su-soshite-sekai-saikyou-no-minarai-kishi-3694.html')\n",
      "('Mononogatari', ['Anime', 'Hành động', 'Bí ẩn', 'Siêu nhiên'], 'Hoàn thành', '8.0', '142', '2023', '12 Tập', 'https://animehay.in/thong-tin-phim/mononogatari-3693.html')\n",
      "('Kimi wo Aishita Hitori no Boku e', ['Anime', 'Tình cảm', 'Viễn tưởng'], 'Hoàn thành', '9.5', '149', '2022', '98 phút', 'https://animehay.in/thong-tin-phim/kimi-wo-aishita-hitori-no-boku-e-3726.html')\n",
      "('Otonari no Tenshi-sama ni Itsunomanika Dame Ningen ni Sareteita Ken', ['Anime', 'Hài hước', 'Tình cảm', 'Học đường'], 'Đang tiến hành', '9.3', '818', '2023', '12 Tập', 'https://animehay.in/thong-tin-phim/otonari-no-tenshi-sama-ni-itsunomanika-dame-ningen-ni-sareteita-ken-3680.html')\n",
      "('Kyokou Suiri Season 2', ['Anime', 'Tình cảm', 'Bí ẩn', 'Thám tử', 'Siêu nhiên'], 'Đang tiến hành', '9.3', '238', '2023', '12 Tập', 'https://animehay.in/thong-tin-phim/kyokou-suiri-season-2-3692.html')\n",
      "('Kami-tachi ni Hirowareta Otoko 2nd Season', ['Anime', 'Hành động', 'Hài hước', 'Siêu nhiên'], 'Hoàn thành', '8.2', '220', '2023', '12 Tập', 'https://animehay.in/thong-tin-phim/kami-tachi-ni-hirowareta-otoko-2nd-season-3690.html')\n",
      "('Benriya Saitou-san, Isekai ni Iku', ['Anime', 'Hài hước', 'Siêu nhiên', 'Phiêu lưu'], 'Hoàn thành', '8.8', '294', '2023', '12 Tập', 'https://animehay.in/thong-tin-phim/benriya-saitou-san-isekai-ni-iku-3689.html')\n",
      "('Boruto: Naruto Next Generations', ['Anime', 'Hành động', 'Võ thuật', 'Phiêu lưu', 'Shounen', 'Siêu năng lực'], 'Hoàn thành', '7.6', '8304', '2017', '293 Tập', 'https://animehay.in/thong-tin-phim/boruto-naruto-next-generations-1777.html')\n",
      "('Tokyo Revengers: Seiya Kessen-hen', ['Anime', 'Hành động', 'Shounen', 'Drama', 'Siêu nhiên'], 'Đang tiến hành', '4.9', '692', '2023', '13 Tập', 'https://animehay.in/thong-tin-phim/tokyo-revengers-seiya-kessen-hen-3683.html')\n",
      "('Blue Lock', ['Anime', 'Shounen', 'Thể thao'], 'Đang tiến hành', '8.6', '518', '2022', '24 Tập', 'https://animehay.in/thong-tin-phim/blue-lock-3621.html')\n",
      "('Trigun Stampede', ['Anime', 'Hành động', 'Phiêu lưu', 'Viễn tưởng'], 'Hoàn thành', '5.9', '70', '2023', '12 Tập', 'https://animehay.in/thong-tin-phim/trigun-stampede-3691.html')\n",
      "('Tsundere Akuyaku Reijou Liselotte To Jikkyou No Endo-Kun To Kaisetsu No Kobayashi-San', ['Anime', 'Hài hước', 'Tình cảm', 'Siêu nhiên'], 'Hoàn thành', '8.1', '224', '2023', '12 Tập', 'https://animehay.in/thong-tin-phim/tsundere-akuyaku-reijou-liselotte-to-jikkyou-no-endo-kun-to-kaisetsu-no-kobayashi-san-3678.html')\n"
     ]
    }
   ],
   "source": [
    "# Infinite scrapper\n",
    "proceed = True\n",
    "page = 14\n",
    "new_checkpoint_data = set()\n",
    "json_data = []\n",
    "current_checkpoint_data = load_checkpoint()\n",
    "# print(current_checkpoint_data)\n",
    "while(proceed):\n",
    "\n",
    "    print(page)\n",
    "    movie_items = get_movie_items(page)\n",
    "    for movie in movie_items:\n",
    "\n",
    "        checkpoint_data = get_checkpoint_data(movie)\n",
    "\n",
    "        # # Check if the movie item has ben processed on the previous batch or not\n",
    "        # if checkpoint_data in current_checkpoint_data:\n",
    "        #     # save_checkpoint(new_checkpoint_data)  # Save this batch as checkpoint for future scrapping batches\n",
    "        #     proceed = False  # Stop this movie item processing batch\n",
    "        #     break  \n",
    "\n",
    "        new_checkpoint_data.add(checkpoint_data)\n",
    "\n",
    "        data = extract_data(movie)\n",
    "        if len(data) == 0:  # Skip to next movie in case there is no data\n",
    "            continue\n",
    "\n",
    "        json_data.append(convert_to_dict(id=checkpoint_data[0], data=data))\n",
    "        print(data)\n",
    "\n",
    "    page += 1\n",
    "    if page > 16:\n",
    "        proceed = False\n",
    "\n",
    "save_to_json(json_data)"
   ]
  },
  {
   "cell_type": "code",
   "execution_count": 26,
   "metadata": {},
   "outputs": [],
   "source": [
    "import pickle\n",
    "with open('./data/checkpoint.pkl', 'wb') as f:\n",
    "    pickle.dump(set([(2713, '84/84')]), f)"
   ]
  },
  {
   "cell_type": "code",
   "execution_count": 28,
   "metadata": {},
   "outputs": [
    {
     "data": {
      "text/plain": [
       "{(2713, '84/84')}"
      ]
     },
     "execution_count": 28,
     "metadata": {},
     "output_type": "execute_result"
    }
   ],
   "source": [
    "with open('./data/checkpoint.pkl', 'rb') as f:\n",
    "    data = pickle.load(f)\n",
    "\n",
    "data"
   ]
  },
  {
   "cell_type": "code",
   "execution_count": null,
   "metadata": {},
   "outputs": [
    {
     "name": "stdout",
     "output_type": "stream",
     "text": [
      "Quyến Tư Lượng ['CN Animation', 'Tiên hiệp', 'Huyền ảo'] Hoàn thành 9.2 375 2021 30 Tập\n",
      "Na Nare Hana Nare ['Anime', 'Thể thao'] Đang tiến hành 5.4 14 2024 ?? Tập\n",
      "Isekai Shikkaku ['Anime', 'Hành động', 'Hài hước', 'Phiêu lưu'] Đang tiến hành 8.6 62 2024 ?? Tập\n",
      "Vạn Giới Độc Tôn ['CN Animation', 'Kiếm hiệp', 'Huyền ảo', 'Dị giới'] Đang tiến hành 8.1 549 2021 274 Tập\n",
      "Nhất Niệm Vĩnh Hằng ['CN Animation', 'Tiên hiệp', 'Huyền ảo'] Đang tiến hành 9.0 2239 2020 135 Tập\n",
      "Già Thiên ['CN Animation', 'Tiên hiệp', 'Xuyên không', 'Huyền ảo'] Đang tiến hành 8.6 1312 2023 104 Tập\n"
     ]
    }
   ],
   "source": [
    "page = 0\n",
    "\n"
   ]
  },
  {
   "cell_type": "code",
   "execution_count": 35,
   "metadata": {},
   "outputs": [],
   "source": [
    "pages = soup.find_all('div', class_='pagination')\n",
    "\n",
    "page_links = [page.div for page in pages]"
   ]
  },
  {
   "cell_type": "code",
   "execution_count": 79,
   "metadata": {},
   "outputs": [
    {
     "data": {
      "text/plain": [
       "'https://animehay.in/thong-tin-phim/tien-vo-truyen-3723.html'"
      ]
     },
     "execution_count": 79,
     "metadata": {},
     "output_type": "execute_result"
    }
   ],
   "source": [
    "'https://animehay.in/thong-tin-phim/tien-vo-truyen-3723.html'"
   ]
  },
  {
   "cell_type": "code",
   "execution_count": 55,
   "metadata": {},
   "outputs": [],
   "source": [
    "a_s = pages[0].find_all('a')"
   ]
  },
  {
   "cell_type": "code",
   "execution_count": 56,
   "metadata": {},
   "outputs": [
    {
     "data": {
      "text/plain": [
       "[<a href=\"https://animehay.in/phim-moi-cap-nhap/trang-1.html\">Đầu</a>,\n",
       " <a class=\"active_page\" href=\"https://animehay.in/phim-moi-cap-nhap/trang-1.html\">1</a>,\n",
       " <a href=\"https://animehay.in/phim-moi-cap-nhap/trang-2.html\">2</a>,\n",
       " <a href=\"javascript:toggleGoPage()\" style=\"background: #a54f4f;\">GO</a>,\n",
       " <a href=\"https://animehay.in/phim-moi-cap-nhap/trang-137.html\">Cuối</a>]"
      ]
     },
     "execution_count": 56,
     "metadata": {},
     "output_type": "execute_result"
    }
   ],
   "source": [
    "a_s"
   ]
  },
  {
   "cell_type": "code",
   "execution_count": 102,
   "metadata": {},
   "outputs": [
    {
     "data": {
      "text/plain": [
       "30"
      ]
     },
     "execution_count": 102,
     "metadata": {},
     "output_type": "execute_result"
    }
   ],
   "source": [
    "len(movie_links)"
   ]
  },
  {
   "cell_type": "markdown",
   "metadata": {},
   "source": [
    "# scrap -> check -> turn page or filter"
   ]
  },
  {
   "cell_type": "code",
   "execution_count": null,
   "metadata": {},
   "outputs": [],
   "source": [
    "def get_movie_list"
   ]
  }
 ],
 "metadata": {
  "kernelspec": {
   "display_name": "web_crawling",
   "language": "python",
   "name": "python3"
  },
  "language_info": {
   "codemirror_mode": {
    "name": "ipython",
    "version": 3
   },
   "file_extension": ".py",
   "mimetype": "text/x-python",
   "name": "python",
   "nbconvert_exporter": "python",
   "pygments_lexer": "ipython3",
   "version": "3.9.19"
  }
 },
 "nbformat": 4,
 "nbformat_minor": 2
}
